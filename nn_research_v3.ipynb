{
 "cells": [
  {
   "attachments": {},
   "cell_type": "markdown",
   "metadata": {},
   "source": [
    "https://www.kaggle.com/code/wwsalmon/simple-mnist-nn-from-scratch-numpy-no-tf-keras/notebook\n",
    "\n",
    "https://www.samsonzhang.com/2020/11/24/understanding-the-math-behind-neural-networks-by-building-one-from-scratch-no-tf-keras-just-numpy"
   ]
  },
  {
   "cell_type": "code",
   "execution_count": 27,
   "metadata": {},
   "outputs": [
    {
     "name": "stdout",
     "output_type": "stream",
     "text": [
      "Defaulting to user installation because normal site-packages is not writeable\n",
      "Requirement already satisfied: pandas in /home/heitzlki/.local/lib/python3.11/site-packages (2.0.3)\n",
      "Requirement already satisfied: matplotlib in /home/heitzlki/.local/lib/python3.11/site-packages (3.7.1)\n",
      "Requirement already satisfied: numpy in /home/heitzlki/.local/lib/python3.11/site-packages (1.23.5)\n",
      "Requirement already satisfied: python-dateutil>=2.8.2 in /usr/lib/python3.11/site-packages (from pandas) (2.8.2)\n",
      "Requirement already satisfied: pytz>=2020.1 in /usr/lib/python3.11/site-packages (from pandas) (2023.3)\n",
      "Requirement already satisfied: tzdata>=2022.1 in /home/heitzlki/.local/lib/python3.11/site-packages (from pandas) (2023.3)\n",
      "Requirement already satisfied: contourpy>=1.0.1 in /home/heitzlki/.local/lib/python3.11/site-packages (from matplotlib) (1.0.7)\n",
      "Requirement already satisfied: cycler>=0.10 in /home/heitzlki/.local/lib/python3.11/site-packages (from matplotlib) (0.11.0)\n",
      "Requirement already satisfied: fonttools>=4.22.0 in /home/heitzlki/.local/lib/python3.11/site-packages (from matplotlib) (4.39.4)\n",
      "Requirement already satisfied: kiwisolver>=1.0.1 in /home/heitzlki/.local/lib/python3.11/site-packages (from matplotlib) (1.4.4)\n",
      "Requirement already satisfied: packaging>=20.0 in /usr/lib/python3.11/site-packages (from matplotlib) (23.0)\n",
      "Requirement already satisfied: pillow>=6.2.0 in /usr/lib64/python3.11/site-packages (from matplotlib) (9.4.0)\n",
      "Requirement already satisfied: pyparsing>=2.3.1 in /home/heitzlki/.local/lib/python3.11/site-packages (from matplotlib) (3.0.9)\n",
      "Requirement already satisfied: six>=1.5 in /usr/lib/python3.11/site-packages (from python-dateutil>=2.8.2->pandas) (1.16.0)\n"
     ]
    }
   ],
   "source": [
    "!pip install pandas matplotlib numpy "
   ]
  },
  {
   "cell_type": "code",
   "execution_count": 28,
   "metadata": {},
   "outputs": [],
   "source": [
    "import os\n",
    "import numpy as np\n",
    "import pandas as pd\n",
    "from matplotlib import pyplot as plt"
   ]
  },
  {
   "cell_type": "code",
   "execution_count": 29,
   "metadata": {},
   "outputs": [
    {
     "name": "stdout",
     "output_type": "stream",
     "text": [
      "   label  pixel0  pixel1  pixel2  pixel3  pixel4  pixel5  pixel6  pixel7  \\\n",
      "0      1       0       0       0       0       0       0       0       0   \n",
      "1      0       0       0       0       0       0       0       0       0   \n",
      "2      1       0       0       0       0       0       0       0       0   \n",
      "3      4       0       0       0       0       0       0       0       0   \n",
      "4      0       0       0       0       0       0       0       0       0   \n",
      "\n",
      "   pixel8  ...  pixel774  pixel775  pixel776  pixel777  pixel778  pixel779  \\\n",
      "0       0  ...         0         0         0         0         0         0   \n",
      "1       0  ...         0         0         0         0         0         0   \n",
      "2       0  ...         0         0         0         0         0         0   \n",
      "3       0  ...         0         0         0         0         0         0   \n",
      "4       0  ...         0         0         0         0         0         0   \n",
      "\n",
      "   pixel780  pixel781  pixel782  pixel783  \n",
      "0         0         0         0         0  \n",
      "1         0         0         0         0  \n",
      "2         0         0         0         0  \n",
      "3         0         0         0         0  \n",
      "4         0         0         0         0  \n",
      "\n",
      "[5 rows x 785 columns]\n"
     ]
    }
   ],
   "source": [
    "path = f\"{os.path.dirname(os.path.abspath('__file__'))}/data/train.csv\"\n",
    "data = pd.read_csv(path)\n",
    "print(data.head())"
   ]
  },
  {
   "cell_type": "code",
   "execution_count": 30,
   "metadata": {},
   "outputs": [],
   "source": [
    "data = np.array(data)\n",
    "m, n = data.shape\n",
    "np.random.shuffle(data) # shuffle before splitting into dev and training sets\n",
    "\n",
    "data_dev = data[0:1000].T\n",
    "Y_dev = data_dev[0]\n",
    "X_dev = data_dev[1:n]\n",
    "X_dev = X_dev / 255.\n",
    "\n",
    "data_train = data[1000:m].T\n",
    "Y_train = data_train[0]\n",
    "X_train = data_train[1:n]\n",
    "X_train = X_train / 255.\n",
    "_,m_train = X_train.shape"
   ]
  },
  {
   "cell_type": "code",
   "execution_count": 31,
   "metadata": {},
   "outputs": [
    {
     "data": {
      "text/plain": [
       "array([5, 8, 0, ..., 6, 7, 6])"
      ]
     },
     "execution_count": 31,
     "metadata": {},
     "output_type": "execute_result"
    }
   ],
   "source": [
    "Y_train"
   ]
  },
  {
   "attachments": {},
   "cell_type": "markdown",
   "metadata": {},
   "source": [
    "Our NN will have a simple two-layer architecture. Input layer $a^{[0]}$ will have 784 units corresponding to the 784 pixels in each 28x28 input image. A hidden layer $a^{[1]}$ will have 10 units with ReLU activation, and finally our output layer $a^{[2]}$ will have 10 units corresponding to the ten digit classes with softmax activation.\n",
    "\n",
    "**Forward propagation**\n",
    "\n",
    "$$Z^{[1]} = W^{[1]} X + b^{[1]}$$\n",
    "$$A^{[1]} = g_{\\text{ReLU}}(Z^{[1]}))$$\n",
    "$$Z^{[2]} = W^{[2]} A^{[1]} + b^{[2]}$$\n",
    "$$A^{[2]} = g_{\\text{softmax}}(Z^{[2]})$$\n",
    "\n",
    "**Backward propagation**\n",
    "\n",
    "$$dZ^{[2]} = A^{[2]} - Y$$\n",
    "$$dW^{[2]} = \\frac{1}{m} dZ^{[2]} A^{[1]T}$$\n",
    "$$dB^{[2]} = \\frac{1}{m} \\Sigma {dZ^{[2]}}$$\n",
    "$$dZ^{[1]} = W^{[2]T} dZ^{[2]} .* g^{[1]\\prime} (z^{[1]})$$\n",
    "$$dW^{[1]} = \\frac{1}{m} dZ^{[1]} A^{[0]T}$$\n",
    "$$dB^{[1]} = \\frac{1}{m} \\Sigma {dZ^{[1]}}$$\n",
    "\n",
    "**Parameter updates**\n",
    "\n",
    "$$W^{[2]} := W^{[2]} - \\alpha dW^{[2]}$$\n",
    "$$b^{[2]} := b^{[2]} - \\alpha db^{[2]}$$\n",
    "$$W^{[1]} := W^{[1]} - \\alpha dW^{[1]}$$\n",
    "$$b^{[1]} := b^{[1]} - \\alpha db^{[1]}$$\n",
    "\n",
    "**Vars and shapes**\n",
    "\n",
    "Forward prop\n",
    "\n",
    "- $A^{[0]} = X$: 784 x m\n",
    "- $Z^{[1]} \\sim A^{[1]}$: 10 x m\n",
    "- $W^{[1]}$: 10 x 784 (as $W^{[1]} A^{[0]} \\sim Z^{[1]}$)\n",
    "- $B^{[1]}$: 10 x 1\n",
    "- $Z^{[2]} \\sim A^{[2]}$: 10 x m\n",
    "- $W^{[1]}$: 10 x 10 (as $W^{[2]} A^{[1]} \\sim Z^{[2]}$)\n",
    "- $B^{[2]}$: 10 x 1\n",
    "\n",
    "Backprop\n",
    "\n",
    "- $dZ^{[2]}$: 10 x m ($~A^{[2]}$)\n",
    "- $dW^{[2]}$: 10 x 10\n",
    "- $dB^{[2]}$: 10 x 1\n",
    "- $dZ^{[1]}$: 10 x m ($~A^{[1]}$)\n",
    "- $dW^{[1]}$: 10 x 10\n",
    "- $dB^{[1]}$: 10 x 1"
   ]
  },
  {
   "cell_type": "code",
   "execution_count": 32,
   "metadata": {},
   "outputs": [],
   "source": [
    "def init_params():\n",
    "    # W1 = np.random.rand(10, 784) - 0.5\n",
    "    # b1 = np.random.rand(10, 1) - 0.5\n",
    "    # W2 = np.random.rand(10, 10) - 0.5\n",
    "    # b2 = np.random.rand(10, 1) - 0.5\n",
    "    # return W1, b1, W2, b2\n",
    "    W1 = np.random.normal(size=(10, 784)) * np.sqrt(1./(784))\n",
    "    b1 = np.random.normal(size=(10, 1)) * np.sqrt(1./10)\n",
    "    W2 = np.random.normal(size=(10, 10)) * np.sqrt(1./20)\n",
    "    b2 = np.random.normal(size=(10, 1)) * np.sqrt(1./(784))\n",
    "    return W1, b1, W2, b2\n",
    "\n",
    "def ReLU(Z):\n",
    "    return np.maximum(Z, 0)\n",
    "\n",
    "def softmax(Z):\n",
    "    A = np.exp(Z) / sum(np.exp(Z))\n",
    "    return A\n",
    "    \n",
    "def forward_prop(W1, b1, W2, b2, X):\n",
    "    Z1 = W1.dot(X) + b1\n",
    "    A1 = ReLU(Z1)\n",
    "    Z2 = W2.dot(A1) + b2\n",
    "    A2 = softmax(Z2)\n",
    "    return Z1, A1, Z2, A2\n",
    "\n",
    "def ReLU_deriv(Z):\n",
    "    return Z > 0\n",
    "\n",
    "def one_hot(Y):\n",
    "    one_hot_Y = np.zeros((Y.size, Y.max() + 1))\n",
    "    one_hot_Y[np.arange(Y.size), Y] = 1\n",
    "    one_hot_Y = one_hot_Y.T\n",
    "    return one_hot_Y\n",
    "\n",
    "def backward_prop(Z1, A1, Z2, A2, W1, W2, X, Y):\n",
    "    one_hot_Y = one_hot(Y)\n",
    "    dZ2 = A2 - one_hot_Y\n",
    "    dW2 = 1 / m * dZ2.dot(A1.T)\n",
    "    db2 = 1 / m * np.sum(dZ2)\n",
    "    dZ1 = W2.T.dot(dZ2) * ReLU_deriv(Z1)\n",
    "    dW1 = 1 / m * dZ1.dot(X.T)\n",
    "    db1 = 1 / m * np.sum(dZ1)\n",
    "    return dW1, db1, dW2, db2\n",
    "\n",
    "def update_params(W1, b1, W2, b2, dW1, db1, dW2, db2, alpha):\n",
    "    W1 = W1 - alpha * dW1\n",
    "    b1 = b1 - alpha * db1    \n",
    "    W2 = W2 - alpha * dW2  \n",
    "    b2 = b2 - alpha * db2    \n",
    "    return W1, b1, W2, b2"
   ]
  },
  {
   "cell_type": "code",
   "execution_count": 33,
   "metadata": {},
   "outputs": [],
   "source": [
    "def get_predictions(A2):\n",
    "    return np.argmax(A2, 0)\n",
    "\n",
    "def get_accuracy(predictions, Y):\n",
    "    print(predictions, Y)\n",
    "    return np.sum(predictions == Y) / Y.size\n",
    "\n",
    "def gradient_descent(X, Y, alpha, iterations):\n",
    "    W1, b1, W2, b2 = init_params()\n",
    "    for i in range(iterations):\n",
    "        Z1, A1, Z2, A2 = forward_prop(W1, b1, W2, b2, X)\n",
    "        dW1, db1, dW2, db2 = backward_prop(Z1, A1, Z2, A2, W1, W2, X, Y)\n",
    "        W1, b1, W2, b2 = update_params(W1, b1, W2, b2, dW1, db1, dW2, db2, alpha)\n",
    "        if i % 10 == 0:\n",
    "            print(\"Iteration: \", i)\n",
    "            predictions = get_predictions(A2)\n",
    "            print(get_accuracy(predictions, Y))\n",
    "    return W1, b1, W2, b2"
   ]
  },
  {
   "cell_type": "code",
   "execution_count": 34,
   "metadata": {},
   "outputs": [
    {
     "name": "stdout",
     "output_type": "stream",
     "text": [
      "Iteration:  0\n",
      "[9 8 3 ... 8 3 3] [5 8 0 ... 6 7 6]\n",
      "0.12414634146341463\n",
      "Iteration:  10\n",
      "[3 8 8 ... 6 7 3] [5 8 0 ... 6 7 6]\n",
      "0.2391951219512195\n",
      "Iteration:  20\n",
      "[3 8 8 ... 6 7 8] [5 8 0 ... 6 7 6]\n",
      "0.3477073170731707\n",
      "Iteration:  30\n",
      "[3 1 2 ... 6 7 6] [5 8 0 ... 6 7 6]\n",
      "0.4097073170731707\n",
      "Iteration:  40\n",
      "[3 8 2 ... 6 7 6] [5 8 0 ... 6 7 6]\n",
      "0.4583170731707317\n",
      "Iteration:  50\n",
      "[8 8 2 ... 6 7 6] [5 8 0 ... 6 7 6]\n",
      "0.508219512195122\n",
      "Iteration:  60\n",
      "[8 8 2 ... 6 7 6] [5 8 0 ... 6 7 6]\n",
      "0.5977073170731707\n",
      "Iteration:  70\n",
      "[8 8 2 ... 6 7 6] [5 8 0 ... 6 7 6]\n",
      "0.6847560975609757\n",
      "Iteration:  80\n",
      "[8 8 2 ... 6 7 6] [5 8 0 ... 6 7 6]\n",
      "0.7275365853658536\n",
      "Iteration:  90\n",
      "[8 8 0 ... 6 7 6] [5 8 0 ... 6 7 6]\n",
      "0.7587804878048781\n",
      "Iteration:  100\n",
      "[5 8 0 ... 6 7 6] [5 8 0 ... 6 7 6]\n",
      "0.7792439024390244\n",
      "Iteration:  110\n",
      "[5 8 0 ... 6 7 6] [5 8 0 ... 6 7 6]\n",
      "0.7944634146341464\n",
      "Iteration:  120\n",
      "[5 8 2 ... 6 7 6] [5 8 0 ... 6 7 6]\n",
      "0.807219512195122\n"
     ]
    }
   ],
   "source": [
    "W1, b1, W2, b2 = gradient_descent(X_train, Y_train, 0.10, 128)"
   ]
  },
  {
   "cell_type": "code",
   "execution_count": 35,
   "metadata": {},
   "outputs": [],
   "source": [
    "def make_predictions(X, W1, b1, W2, b2):\n",
    "    _, _, _, A2 = forward_prop(W1, b1, W2, b2, X)\n",
    "    predictions = get_predictions(A2)\n",
    "    return predictions\n",
    "\n",
    "def test_prediction(index, W1, b1, W2, b2):\n",
    "    current_image = X_train[:, index, None]\n",
    "    prediction = make_predictions(X_train[:, index, None], W1, b1, W2, b2)\n",
    "    label = Y_train[index]\n",
    "    print(\"Prediction: \", prediction)\n",
    "    print(\"Label: \", label)\n",
    "    \n",
    "    current_image = current_image.reshape((28, 28)) * 255\n",
    "    plt.gray()\n",
    "    plt.imshow(current_image, interpolation='nearest')\n",
    "    plt.show()"
   ]
  },
  {
   "cell_type": "code",
   "execution_count": 36,
   "metadata": {},
   "outputs": [
    {
     "name": "stdout",
     "output_type": "stream",
     "text": [
      "Prediction:  [5]\n",
      "Label:  5\n"
     ]
    },
    {
     "data": {
      "image/png": "[encoded data removed]",
      "text/plain": [
       "<Figure size 640x480 with 1 Axes>"
      ]
     },
     "metadata": {},
     "output_type": "display_data"
    },
    {
     "name": "stdout",
     "output_type": "stream",
     "text": [
      "Prediction:  [8]\n",
      "Label:  8\n"
     ]
    },
    {
     "data": {
      "image/png": "[encoded data removed]",
      "text/plain": [
       "<Figure size 640x480 with 1 Axes>"
      ]
     },
     "metadata": {},
     "output_type": "display_data"
    },
    {
     "name": "stdout",
     "output_type": "stream",
     "text": [
      "Prediction:  [2]\n",
      "Label:  0\n"
     ]
    },
    {
     "data": {
      "image/png": "[encoded data removed]",
      "text/plain": [
       "<Figure size 640x480 with 1 Axes>"
      ]
     },
     "metadata": {},
     "output_type": "display_data"
    },
    {
     "name": "stdout",
     "output_type": "stream",
     "text": [
      "Prediction:  [8]\n",
      "Label:  8\n"
     ]
    },
    {
     "data": {
      "image/png": "[encoded data removed]",
      "text/plain": [
       "<Figure size 640x480 with 1 Axes>"
      ]
     },
     "metadata": {},
     "output_type": "display_data"
    }
   ],
   "source": [
    "test_prediction(0, W1, b1, W2, b2)\n",
    "test_prediction(1, W1, b1, W2, b2)\n",
    "test_prediction(2, W1, b1, W2, b2)\n",
    "test_prediction(3, W1, b1, W2, b2)"
   ]
  },
  {
   "cell_type": "code",
   "execution_count": 37,
   "metadata": {},
   "outputs": [
    {
     "name": "stdout",
     "output_type": "stream",
     "text": [
      "[0 6 7 0 9 8 7 3 7 1 0 3 7 9 4 8 3 5 6 2 8 6 9 6 7 4 1 4 1 0 5 6 0 9 9 8 9\n",
      " 7 8 1 5 9 4 7 8 4 8 0 3 5 8 6 3 9 0 1 0 2 4 2 8 3 9 5 4 5 8 1 2 2 6 0 6 1\n",
      " 3 3 7 7 0 4 6 6 4 9 0 8 5 8 0 9 9 3 3 0 7 1 4 8 0 4 9 7 8 9 3 8 5 5 9 7 1\n",
      " 7 8 7 8 5 6 3 6 3 3 9 0 7 6 7 2 3 0 4 9 1 1 3 4 0 7 2 8 4 2 3 9 7 2 8 2 7\n",
      " 3 4 9 2 1 0 7 5 6 0 5 2 4 7 7 0 9 7 6 1 6 0 9 3 2 9 1 2 4 2 0 4 8 5 7 7 2\n",
      " 7 5 4 4 1 6 0 0 8 4 7 2 7 1 8 3 2 7 9 4 5 0 9 2 1 1 2 6 8 4 9 1 8 4 5 8 7\n",
      " 8 7 3 6 6 5 2 5 1 0 6 8 7 8 3 2 9 5 8 6 6 9 3 3 3 9 8 4 1 3 0 2 2 1 6 6 8\n",
      " 4 0 8 8 8 3 0 8 7 4 4 2 8 5 5 5 1 1 4 1 7 7 0 6 9 6 0 9 0 6 6 5 4 1 5 6 3\n",
      " 0 9 7 2 7 9 4 6 0 0 0 0 7 9 0 6 0 8 1 1 9 1 3 1 0 5 0 3 8 4 7 9 2 9 6 4 0\n",
      " 8 6 7 4 6 1 3 0 4 6 1 5 3 8 6 8 4 9 2 4 8 7 6 8 6 1 2 1 1 0 3 4 2 5 2 6 0\n",
      " 7 0 8 9 9 1 6 6 0 5 6 4 9 5 9 2 5 7 4 0 0 8 7 8 6 6 0 9 7 4 4 4 6 1 0 4 1\n",
      " 3 3 0 7 3 3 3 3 7 6 1 3 5 6 8 1 4 3 7 9 1 4 6 7 1 4 6 1 5 0 1 0 4 2 3 3 3\n",
      " 9 2 8 7 5 7 1 7 1 8 3 9 6 1 0 3 3 8 4 6 6 0 9 8 9 8 2 0 6 7 8 5 1 1 0 1 9\n",
      " 9 1 0 5 0 9 2 8 9 0 3 3 9 1 1 7 1 4 0 4 1 4 2 8 6 0 6 2 0 9 8 2 6 6 3 3 0\n",
      " 9 3 8 0 2 5 1 1 6 4 2 0 7 6 7 4 1 3 5 3 9 7 0 3 3 1 0 7 6 8 1 7 5 4 6 2 7\n",
      " 9 4 7 0 9 9 1 6 8 8 7 6 7 5 8 0 5 6 4 9 9 7 7 9 2 6 6 4 1 1 5 2 0 3 1 3 2\n",
      " 9 7 1 9 5 4 7 6 9 3 0 9 1 1 1 9 1 2 7 3 4 9 6 2 0 0 9 9 6 1 3 8 3 9 0 4 4\n",
      " 5 6 3 8 7 0 2 7 3 1 9 8 0 5 5 5 4 2 8 7 7 8 3 6 6 9 9 0 6 1 8 9 6 8 8 2 6\n",
      " 9 8 8 9 3 6 0 7 8 9 4 9 2 9 8 5 7 3 9 0 4 7 6 1 0 3 8 5 7 1 4 8 6 9 5 2 5\n",
      " 0 3 9 6 2 5 3 7 2 7 6 0 0 9 4 9 3 8 0 9 0 3 6 6 6 2 8 5 0 7 4 9 9 1 3 4 5\n",
      " 2 8 5 0 1 9 2 3 7 5 6 7 6 0 0 7 2 1 5 9 9 1 5 0 2 1 5 5 0 6 4 7 8 2 1 6 5\n",
      " 9 0 9 7 9 6 1 2 5 8 9 2 3 4 9 8 0 8 7 0 9 1 1 7 6 7 5 2 8 3 0 2 5 6 8 4 5\n",
      " 8 3 4 5 2 2 4 4 6 6 6 6 1 2 6 2 0 3 0 2 3 1 6 6 6 7 5 1 2 0 5 2 2 3 5 4 8\n",
      " 9 7 4 0 4 1 1 7 9 6 6 4 1 8 2 2 0 5 1 2 1 3 6 7 2 1 9 3 3 5 1 9 4 7 3 8 7\n",
      " 1 0 6 8 4 1 7 7 5 7 0 5 7 6 7 5 8 9 1 3 6 7 0 6 4 7 2 5 3 8 7 6 1 0 6 1 1\n",
      " 6 9 9 5 2 1 7 9 8 8 6 0 9 9 2 9 3 8 4 3 9 0 9 4 1 2 6 8 0 5 0 1 1 0 5 9 7\n",
      " 7 4 1 1 6 2 7 9 7 3 6 7 1 0 1 7 0 9 3 4 3 8 5 2 8 4 1 8 5 1 1 1 5 3 0 8 6\n",
      " 8] [0 6 7 0 7 8 7 3 7 1 0 3 7 9 4 8 3 5 6 2 8 6 9 6 7 4 8 4 1 0 5 6 0 4 7 8 9\n",
      " 7 8 5 5 9 5 7 8 4 4 0 3 5 8 6 3 9 0 1 7 2 4 2 8 9 9 5 4 3 5 1 2 2 6 0 6 1\n",
      " 5 9 2 7 0 4 6 8 2 9 0 5 5 8 0 9 9 3 3 0 7 1 4 8 0 4 9 7 8 9 2 8 5 5 9 7 1\n",
      " 7 8 7 8 5 6 3 6 3 3 9 0 5 6 7 2 3 0 4 9 1 1 3 7 0 7 9 5 5 2 3 9 7 2 8 2 7\n",
      " 3 4 5 2 1 0 7 4 6 9 5 2 4 7 7 0 9 7 6 1 6 0 9 3 2 9 1 2 4 2 0 4 8 5 7 7 2\n",
      " 7 5 8 4 1 5 0 0 8 4 7 2 2 1 8 5 2 7 9 4 5 0 9 2 1 1 2 6 8 4 5 1 4 4 5 1 7\n",
      " 8 7 5 6 6 3 2 5 1 0 0 8 7 8 3 2 9 8 2 6 6 9 3 3 3 5 8 8 1 3 0 2 2 1 6 6 8\n",
      " 4 0 8 8 8 3 0 5 7 4 4 2 8 4 6 1 1 1 4 1 7 7 0 6 4 6 0 9 0 6 6 5 4 1 5 6 1\n",
      " 0 9 7 2 7 9 4 6 0 0 0 0 7 9 0 6 0 8 8 1 9 1 3 1 4 5 0 3 8 4 7 4 2 9 6 4 0\n",
      " 8 6 9 4 6 1 3 0 5 6 1 5 8 7 6 8 4 9 2 4 8 7 6 8 8 9 2 1 1 0 3 2 2 5 2 6 0\n",
      " 7 0 5 9 9 1 6 6 0 0 6 5 4 5 4 2 5 7 4 2 8 5 7 8 6 6 0 9 7 8 4 4 6 9 0 4 1\n",
      " 3 3 0 7 3 3 3 3 7 2 1 3 5 6 4 1 4 8 7 9 8 4 6 7 1 4 6 1 5 0 1 0 4 2 3 8 3\n",
      " 9 2 8 9 5 7 1 7 1 5 3 9 6 1 0 3 3 5 4 2 6 0 9 8 9 8 2 0 6 7 8 5 1 1 0 8 9\n",
      " 9 1 0 5 0 9 0 8 7 0 3 3 9 1 1 7 1 5 0 4 7 4 2 8 6 0 6 2 6 9 8 2 6 6 3 3 0\n",
      " 9 3 5 0 2 9 1 1 6 4 2 0 9 6 7 4 2 3 5 3 9 7 0 3 2 1 0 7 6 8 1 7 8 4 2 2 7\n",
      " 9 4 7 0 9 9 1 6 8 8 7 6 7 9 8 0 6 6 9 9 9 7 7 9 1 6 6 4 1 1 5 2 0 3 1 3 7\n",
      " 9 7 1 4 5 4 7 6 9 3 0 9 1 1 1 9 1 2 7 3 6 3 6 2 0 0 9 9 2 1 3 0 3 9 0 4 4\n",
      " 5 6 3 8 7 0 2 7 3 1 9 8 5 5 5 5 4 2 8 2 9 3 8 6 6 9 9 0 6 6 8 9 6 5 8 7 6\n",
      " 9 5 8 9 3 6 0 7 8 9 4 9 5 9 8 5 7 3 9 0 4 7 6 3 0 3 8 5 8 1 8 6 6 9 8 2 5\n",
      " 0 3 9 6 2 5 3 7 2 7 6 3 0 9 4 9 3 5 0 9 0 3 6 6 6 2 8 9 0 7 4 9 4 1 3 6 5\n",
      " 2 8 5 9 1 8 2 3 7 5 6 9 6 0 4 7 2 1 8 7 9 1 5 0 2 1 5 0 9 2 5 7 5 2 1 6 5\n",
      " 9 0 9 7 5 6 1 2 5 8 9 3 3 4 7 4 0 4 7 0 9 1 1 7 2 7 5 2 8 3 0 2 5 5 8 4 5\n",
      " 8 3 4 0 2 2 4 4 2 6 6 6 1 2 6 2 0 3 0 2 3 1 6 6 6 7 8 1 2 4 5 2 2 3 5 4 8\n",
      " 9 7 4 0 4 1 1 5 9 6 6 5 1 5 2 2 0 3 9 2 1 3 6 7 2 1 9 3 3 0 1 9 4 7 3 1 7\n",
      " 1 0 6 5 4 1 7 7 5 7 0 5 7 6 7 5 8 9 2 3 6 7 0 6 4 7 2 5 3 9 7 6 1 0 6 1 1\n",
      " 6 9 7 5 2 1 7 8 8 2 6 0 9 9 2 9 3 8 4 3 9 0 9 4 8 5 6 8 0 8 2 1 1 0 5 9 9\n",
      " 7 5 1 1 6 1 7 9 7 3 6 7 8 0 1 7 0 9 3 4 3 8 5 2 8 4 1 8 8 1 1 1 5 3 0 8 6\n",
      " 8]\n"
     ]
    },
    {
     "data": {
      "text/plain": [
       "0.838"
      ]
     },
     "execution_count": 37,
     "metadata": {},
     "output_type": "execute_result"
    }
   ],
   "source": [
    "dev_predictions = make_predictions(X_dev, W1, b1, W2, b2)\n",
    "get_accuracy(dev_predictions, Y_dev)"
   ]
  }
 ],
 "metadata": {
  "kernelspec": {
   "display_name": "usr",
   "language": "python",
   "name": "python3"
  },
  "language_info": {
   "codemirror_mode": {
    "name": "ipython",
    "version": 3
   },
   "file_extension": ".py",
   "mimetype": "text/x-python",
   "name": "python",
   "nbconvert_exporter": "python",
   "pygments_lexer": "ipython3",
   "version": "3.11.3"
  },
  "orig_nbformat": 4
 },
 "nbformat": 4,
 "nbformat_minor": 2
}
