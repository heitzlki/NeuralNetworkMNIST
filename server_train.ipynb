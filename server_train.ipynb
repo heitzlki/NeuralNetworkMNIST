{
 "cells": [
  {
   "cell_type": "code",
   "execution_count": 2,
   "metadata": {},
   "outputs": [
    {
     "name": "stdout",
     "output_type": "stream",
     "text": [
      "Defaulting to user installation because normal site-packages is not writeable\n",
      "Requirement already satisfied: numpy in /home/heitzlki/.local/lib/python3.11/site-packages (1.23.5)\n",
      "Requirement already satisfied: pandas in /home/heitzlki/.local/lib/python3.11/site-packages (2.0.3)\n",
      "Requirement already satisfied: matplotlib in /home/heitzlki/.local/lib/python3.11/site-packages (3.7.1)\n",
      "Requirement already satisfied: python-dateutil>=2.8.2 in /usr/lib/python3.11/site-packages (from pandas) (2.8.2)\n",
      "Requirement already satisfied: pytz>=2020.1 in /usr/lib/python3.11/site-packages (from pandas) (2023.3)\n",
      "Requirement already satisfied: tzdata>=2022.1 in /home/heitzlki/.local/lib/python3.11/site-packages (from pandas) (2023.3)\n",
      "Requirement already satisfied: contourpy>=1.0.1 in /home/heitzlki/.local/lib/python3.11/site-packages (from matplotlib) (1.0.7)\n",
      "Requirement already satisfied: cycler>=0.10 in /home/heitzlki/.local/lib/python3.11/site-packages (from matplotlib) (0.11.0)\n",
      "Requirement already satisfied: fonttools>=4.22.0 in /home/heitzlki/.local/lib/python3.11/site-packages (from matplotlib) (4.39.4)\n",
      "Requirement already satisfied: kiwisolver>=1.0.1 in /home/heitzlki/.local/lib/python3.11/site-packages (from matplotlib) (1.4.4)\n",
      "Requirement already satisfied: packaging>=20.0 in /usr/lib/python3.11/site-packages (from matplotlib) (23.0)\n",
      "Requirement already satisfied: pillow>=6.2.0 in /usr/lib64/python3.11/site-packages (from matplotlib) (9.4.0)\n",
      "Requirement already satisfied: pyparsing>=2.3.1 in /home/heitzlki/.local/lib/python3.11/site-packages (from matplotlib) (3.0.9)\n",
      "Requirement already satisfied: six>=1.5 in /usr/lib/python3.11/site-packages (from python-dateutil>=2.8.2->pandas) (1.16.0)\n"
     ]
    }
   ],
   "source": [
    "!pip install numpy pandas matplotlib"
   ]
  },
  {
   "cell_type": "code",
   "execution_count": 3,
   "metadata": {},
   "outputs": [],
   "source": [
    "import numpy as np\n",
    "import pandas as pd\n",
    "import matplotlib.pyplot as plt\n",
    "import os\n",
    "import csv"
   ]
  },
  {
   "cell_type": "code",
   "execution_count": 11,
   "metadata": {},
   "outputs": [],
   "source": [
    "path = f\"{os.path.dirname(os.path.abspath('__file__'))}/data/train.csv\"\n",
    "\n",
    "data = pd.read_csv(path)\n",
    "\n",
    "data = np.array(data)\n",
    "m, n = data.shape\n",
    "np.random.shuffle(data)\n",
    "\n",
    "data_dev = data[0:1000].T\n",
    "Y_dev = data_dev[0]\n",
    "X_dev = data_dev[1:n]\n",
    "X_dev = X_dev / 255.\n",
    "\n",
    "data_train = data[1000:m].T\n",
    "Y_train = data_train[0]\n",
    "X_train = data_train[1:n]\n",
    "X_train = X_train / 255.\n",
    "_,m_train = X_train.shape\n",
    "\n",
    "def init_params():\n",
    "    W1 = np.random.rand(10, 784) - 0.5\n",
    "    b1 = np.random.rand(10, 1) - 0.5\n",
    "    W2 = np.random.rand(10, 10) - 0.5\n",
    "    b2 = np.random.rand(10, 1) - 0.5\n",
    "    return W1, b1, W2, b2\n",
    "\n",
    "def ReLU(Z):\n",
    "    return np.maximum(Z, 0)\n",
    "\n",
    "def softmax(Z):\n",
    "    A = np.exp(Z) / sum(np.exp(Z))\n",
    "    return A\n",
    "    \n",
    "def forward_prop(W1, b1, W2, b2, X):\n",
    "    Z1 = W1.dot(X) + b1\n",
    "    A1 = ReLU(Z1)\n",
    "    Z2 = W2.dot(A1) + b2\n",
    "    A2 = softmax(Z2)\n",
    "    return Z1, A1, Z2, A2\n",
    "\n",
    "def ReLU_deriv(Z):\n",
    "    return Z > 0\n",
    "\n",
    "def one_hot(Y):\n",
    "    one_hot_Y = np.zeros((Y.size, Y.max() + 1))\n",
    "    one_hot_Y[np.arange(Y.size), Y] = 1\n",
    "    one_hot_Y = one_hot_Y.T\n",
    "    return one_hot_Y\n",
    "\n",
    "def backward_prop(Z1, A1, Z2, A2, W1, W2, X, Y):\n",
    "    one_hot_Y = one_hot(Y)\n",
    "    dZ2 = A2 - one_hot_Y\n",
    "    dW2 = 1 / m * dZ2.dot(A1.T)\n",
    "    db2 = 1 / m * np.sum(dZ2)\n",
    "    dZ1 = W2.T.dot(dZ2) * ReLU_deriv(Z1)\n",
    "    dW1 = 1 / m * dZ1.dot(X.T)\n",
    "    db1 = 1 / m * np.sum(dZ1)\n",
    "    return dW1, db1, dW2, db2\n",
    "\n",
    "def update_params(W1, b1, W2, b2, dW1, db1, dW2, db2, alpha):\n",
    "    W1 = W1 - alpha * dW1\n",
    "    b1 = b1 - alpha * db1    \n",
    "    W2 = W2 - alpha * dW2  \n",
    "    b2 = b2 - alpha * db2    \n",
    "    return W1, b1, W2, b2\n",
    "\n",
    "\n",
    "def get_predictions(A2):\n",
    "    return np.argmax(A2, 0)\n",
    "\n",
    "def get_accuracy(predictions, Y):\n",
    "    return np.sum(predictions == Y) / Y.size\n",
    "\n",
    "def gradient_descent(X, Y, alpha, iterations):\n",
    "    W1, b1, W2, b2 = init_params()\n",
    "    accuracies = []\n",
    "    for i in range(iterations):\n",
    "\n",
    "        Z1, A1, Z2, A2 = forward_prop(W1, b1, W2, b2, X)\n",
    "        dW1, db1, dW2, db2 = backward_prop(Z1, A1, Z2, A2, W1, W2, X, Y)\n",
    "        W1, b1, W2, b2 = update_params(W1, b1, W2, b2, dW1, db1, dW2, db2, alpha)\n",
    "        accuracies.append(get_accuracy(get_predictions(A2), Y))\n",
    "\n",
    "        if i % 10 == 0:\n",
    "            print(f\"[{i}]: {accuracies[-1]}\")\n",
    "    \n",
    "    return W1, b1, W2, b2, accuracies"
   ]
  },
  {
   "cell_type": "code",
   "execution_count": 31,
   "metadata": {},
   "outputs": [
    {
     "name": "stdout",
     "output_type": "stream",
     "text": [
      "[0]: 0.1155609756097561\n",
      "[10]: 0.22797560975609757\n",
      "[20]: 0.3378048780487805\n",
      "[30]: 0.4205121951219512\n",
      "[40]: 0.48704878048780487\n",
      "[50]: 0.539609756097561\n",
      "[60]: 0.5826341463414634\n",
      "[70]: 0.6179024390243902\n",
      "[80]: 0.6476341463414634\n",
      "[90]: 0.671609756097561\n",
      "[100]: 0.6917560975609756\n",
      "[110]: 0.7101463414634146\n",
      "[120]: 0.7268292682926829\n",
      "[130]: 0.7391463414634146\n",
      "[140]: 0.7510243902439024\n",
      "[150]: 0.7616341463414634\n",
      "[160]: 0.7703658536585366\n",
      "[170]: 0.7782682926829269\n",
      "[180]: 0.7854146341463415\n",
      "[190]: 0.7914634146341464\n",
      "[200]: 0.796829268292683\n",
      "[210]: 0.8021951219512196\n",
      "[220]: 0.8070487804878049\n",
      "[230]: 0.8116341463414635\n",
      "[240]: 0.8154390243902438\n",
      "[250]: 0.8190975609756097\n",
      "[260]: 0.8222926829268292\n",
      "[270]: 0.8251219512195122\n",
      "[280]: 0.8280731707317073\n",
      "[290]: 0.8304390243902439\n",
      "[300]: 0.8329268292682926\n",
      "[310]: 0.8354390243902439\n",
      "[320]: 0.8377073170731707\n",
      "[330]: 0.8402682926829268\n",
      "[340]: 0.8420975609756097\n",
      "[350]: 0.8438780487804878\n",
      "[360]: 0.8457073170731707\n",
      "[370]: 0.8470487804878049\n",
      "[380]: 0.848609756097561\n",
      "[390]: 0.8502439024390244\n",
      "[400]: 0.852\n",
      "[410]: 0.853170731707317\n",
      "[420]: 0.8543170731707317\n",
      "[430]: 0.8557317073170732\n",
      "[440]: 0.8571219512195122\n",
      "[450]: 0.8579024390243902\n",
      "[460]: 0.8594878048780488\n",
      "[470]: 0.860609756097561\n",
      "[480]: 0.8615121951219512\n",
      "[490]: 0.8625365853658536\n",
      "[500]: 0.8634634146341463\n",
      "[510]: 0.8641951219512195\n",
      "[520]: 0.8654878048780488\n",
      "[530]: 0.8663658536585366\n",
      "[540]: 0.8670731707317073\n",
      "[550]: 0.8678292682926829\n",
      "[560]: 0.8687073170731707\n",
      "[570]: 0.8693170731707317\n",
      "[580]: 0.8702926829268293\n",
      "[590]: 0.8710975609756098\n",
      "[600]: 0.8719512195121951\n",
      "[610]: 0.8725609756097561\n",
      "[620]: 0.8731707317073171\n",
      "[630]: 0.8739512195121951\n",
      "[640]: 0.8744878048780488\n",
      "[650]: 0.875\n",
      "[660]: 0.8754878048780488\n",
      "[670]: 0.8759024390243902\n",
      "[680]: 0.876390243902439\n",
      "[690]: 0.8769756097560976\n",
      "[700]: 0.8775609756097561\n",
      "[710]: 0.8782926829268293\n",
      "[720]: 0.8785121951219512\n",
      "[730]: 0.8790487804878049\n",
      "[740]: 0.8794878048780488\n",
      "[750]: 0.8799756097560976\n",
      "[760]: 0.8804146341463415\n",
      "[770]: 0.8810975609756098\n",
      "[780]: 0.8814878048780488\n",
      "[790]: 0.8816829268292683\n",
      "[800]: 0.8820975609756098\n",
      "[810]: 0.8824878048780488\n",
      "[820]: 0.8827560975609756\n",
      "[830]: 0.8829756097560976\n",
      "[840]: 0.8831951219512195\n",
      "[850]: 0.8834146341463415\n",
      "[860]: 0.8837560975609756\n",
      "[870]: 0.8841951219512195\n",
      "[880]: 0.8844634146341463\n",
      "[890]: 0.8848292682926829\n",
      "[900]: 0.8854878048780488\n",
      "[910]: 0.8858292682926829\n",
      "[920]: 0.8862926829268293\n",
      "[930]: 0.8867073170731707\n",
      "[940]: 0.8868536585365854\n",
      "[950]: 0.8871463414634146\n",
      "[960]: 0.8875365853658537\n",
      "[970]: 0.8879024390243903\n",
      "[980]: 0.8881951219512195\n",
      "[990]: 0.8885365853658537\n",
      "[1000]: 0.8887560975609756\n",
      "[1010]: 0.8890975609756098\n",
      "[1020]: 0.8894634146341464\n",
      "[1030]: 0.8897073170731707\n",
      "[1040]: 0.8899024390243903\n",
      "[1050]: 0.8901707317073171\n",
      "[1060]: 0.8902926829268293\n",
      "[1070]: 0.8905609756097561\n",
      "[1080]: 0.8907317073170732\n",
      "[1090]: 0.8909756097560976\n",
      "[1100]: 0.8912439024390244\n",
      "[1110]: 0.8914390243902439\n",
      "[1120]: 0.8915365853658537\n",
      "[1130]: 0.8916341463414634\n",
      "[1140]: 0.8919268292682927\n",
      "[1150]: 0.8921707317073171\n",
      "[1160]: 0.8923414634146342\n",
      "[1170]: 0.8925853658536586\n",
      "[1180]: 0.8927804878048781\n",
      "[1190]: 0.8931219512195122\n",
      "[1200]: 0.8931707317073171\n",
      "[1210]: 0.8933414634146342\n",
      "[1220]: 0.8936585365853659\n",
      "[1230]: 0.8939268292682927\n",
      "[1240]: 0.8942682926829268\n",
      "[1250]: 0.8944390243902439\n",
      "[1260]: 0.8946585365853659\n",
      "[1270]: 0.8949756097560976\n",
      "[1280]: 0.8951707317073171\n",
      "[1290]: 0.8952682926829268\n",
      "[1300]: 0.8956341463414634\n",
      "[1310]: 0.8958780487804878\n",
      "[1320]: 0.8960731707317073\n",
      "[1330]: 0.8961951219512195\n",
      "[1340]: 0.8964146341463415\n",
      "[1350]: 0.8965609756097561\n",
      "[1360]: 0.8966829268292683\n",
      "[1370]: 0.896829268292683\n",
      "[1380]: 0.8969756097560976\n",
      "[1390]: 0.8971219512195122\n",
      "[1400]: 0.8974390243902439\n",
      "[1410]: 0.8976341463414634\n",
      "[1420]: 0.8978048780487805\n",
      "[1430]: 0.8979268292682927\n",
      "[1440]: 0.898\n",
      "[1450]: 0.898219512195122\n",
      "[1460]: 0.8984146341463415\n",
      "[1470]: 0.8985609756097561\n",
      "[1480]: 0.898829268292683\n",
      "[1490]: 0.8989512195121951\n",
      "[1500]: 0.8990487804878049\n",
      "[1510]: 0.8992682926829269\n",
      "[1520]: 0.8994634146341464\n",
      "[1530]: 0.8995609756097561\n",
      "[1540]: 0.8997804878048781\n",
      "[1550]: 0.9\n",
      "[1560]: 0.9002926829268293\n",
      "[1570]: 0.9004146341463415\n",
      "[1580]: 0.9006829268292683\n",
      "[1590]: 0.9007560975609756\n",
      "[1600]: 0.9008048780487805\n",
      "[1610]: 0.9009268292682927\n",
      "[1620]: 0.9010731707317073\n",
      "[1630]: 0.9012439024390244\n",
      "[1640]: 0.9014878048780488\n",
      "[1650]: 0.9016585365853659\n",
      "[1660]: 0.9016829268292683\n",
      "[1670]: 0.9017804878048781\n",
      "[1680]: 0.9019756097560976\n",
      "[1690]: 0.9021463414634147\n",
      "[1700]: 0.9024878048780488\n",
      "[1710]: 0.9025609756097561\n",
      "[1720]: 0.902609756097561\n",
      "[1730]: 0.9028048780487805\n",
      "[1740]: 0.9031219512195122\n",
      "[1750]: 0.9032682926829269\n",
      "[1760]: 0.903390243902439\n",
      "[1770]: 0.9033658536585366\n",
      "[1780]: 0.9034634146341464\n",
      "[1790]: 0.9035365853658537\n",
      "[1800]: 0.903609756097561\n",
      "[1810]: 0.9037317073170732\n",
      "[1820]: 0.9039268292682927\n",
      "[1830]: 0.9041463414634147\n",
      "[1840]: 0.9042926829268293\n",
      "[1850]: 0.904609756097561\n",
      "[1860]: 0.9047560975609756\n",
      "[1870]: 0.9047560975609756\n",
      "[1880]: 0.9048536585365854\n",
      "[1890]: 0.9049268292682927\n",
      "[1900]: 0.9050731707317073\n",
      "[1910]: 0.9051219512195122\n",
      "[1920]: 0.905219512195122\n",
      "[1930]: 0.9053170731707317\n",
      "[1940]: 0.9054390243902439\n",
      "[1950]: 0.9055121951219512\n",
      "[1960]: 0.9057073170731708\n",
      "[1970]: 0.905829268292683\n",
      "[1980]: 0.9058780487804878\n",
      "[1990]: 0.906\n"
     ]
    }
   ],
   "source": [
    "W1, b1, W2, b2, accuracies = gradient_descent(X_train, Y_train, 0.10, 2000)\n",
    "np.savez('params.npz', W1=W1, b1=b1, W2=W2, b2=b2)\n"
   ]
  },
  {
   "cell_type": "code",
   "execution_count": 18,
   "metadata": {},
   "outputs": [],
   "source": [
    "np.savez('params2.npz', W1=W1, b1=b1, W2=W2, b2=b2)\n"
   ]
  },
  {
   "cell_type": "code",
   "execution_count": 19,
   "metadata": {},
   "outputs": [],
   "source": [
    "def make_predictions(X, W1, b1, W2, b2):\n",
    "    _, _, _, A2 = forward_prop(W1, b1, W2, b2, X)\n",
    "    predictions = get_predictions(A2)\n",
    "    return predictions\n",
    "\n",
    "def test_prediction(index, W1, b1, W2, b2):\n",
    "    current_image = X_train[:, index, None]\n",
    "    prediction = make_predictions(X_train[:, index, None], W1, b1, W2, b2)\n",
    "    label = Y_train[index]\n",
    "    print(\"Prediction: \", prediction)\n",
    "    print(\"Label: \", label)\n",
    "    \n",
    "    current_image = current_image.reshape((28, 28)) * 255\n",
    "    plt.gray()\n",
    "    plt.imshow(current_image, interpolation='nearest')\n",
    "    plt.show()"
   ]
  },
  {
   "cell_type": "code",
   "execution_count": 20,
   "metadata": {},
   "outputs": [
    {
     "name": "stdout",
     "output_type": "stream",
     "text": [
      "Prediction:  [5]\n",
      "Label:  5\n"
     ]
    },
    {
     "data": {
      "image/png": "[encoded data removed]",
      "text/plain": [
       "<Figure size 640x480 with 1 Axes>"
      ]
     },
     "metadata": {},
     "output_type": "display_data"
    },
    {
     "name": "stdout",
     "output_type": "stream",
     "text": [
      "Prediction:  [8]\n",
      "Label:  8\n"
     ]
    },
    {
     "data": {
      "image/png": "[encoded data removed]",
      "text/plain": [
       "<Figure size 640x480 with 1 Axes>"
      ]
     },
     "metadata": {},
     "output_type": "display_data"
    },
    {
     "name": "stdout",
     "output_type": "stream",
     "text": [
      "Prediction:  [2]\n",
      "Label:  2\n"
     ]
    },
    {
     "data": {
      "image/png": "[encoded data removed]",
      "text/plain": [
       "<Figure size 640x480 with 1 Axes>"
      ]
     },
     "metadata": {},
     "output_type": "display_data"
    },
    {
     "name": "stdout",
     "output_type": "stream",
     "text": [
      "Prediction:  [3]\n",
      "Label:  3\n"
     ]
    },
    {
     "data": {
      "image/png": "[encoded data removed]",
      "text/plain": [
       "<Figure size 640x480 with 1 Axes>"
      ]
     },
     "metadata": {},
     "output_type": "display_data"
    }
   ],
   "source": [
    "test_prediction(0, W1, b1, W2, b2)\n",
    "test_prediction(1, W1, b1, W2, b2)\n",
    "test_prediction(2, W1, b1, W2, b2)\n",
    "test_prediction(3, W1, b1, W2, b2)"
   ]
  },
  {
   "cell_type": "code",
   "execution_count": 22,
   "metadata": {},
   "outputs": [],
   "source": [
    "# X_train[:, 1, None]"
   ]
  },
  {
   "cell_type": "code",
   "execution_count": 30,
   "metadata": {},
   "outputs": [
    {
     "data": {
      "text/plain": [
       "0.896"
      ]
     },
     "execution_count": 30,
     "metadata": {},
     "output_type": "execute_result"
    }
   ],
   "source": [
    "data = np.load(\"params.npz\")\n",
    "\n",
    "# Access the weights and biases\n",
    "W1 = data[\"W1\"]\n",
    "b1 = data[\"b1\"]\n",
    "W2 = data[\"W2\"]\n",
    "b2 = data[\"b2\"]\n",
    "\n",
    "\n",
    "dev_predictions = make_predictions(X_dev, W1, b1, W2, b2)\n",
    "get_accuracy(dev_predictions, Y_dev)"
   ]
  }
 ],
 "metadata": {
  "kernelspec": {
   "display_name": "usr",
   "language": "python",
   "name": "python3"
  },
  "language_info": {
   "codemirror_mode": {
    "name": "ipython",
    "version": 3
   },
   "file_extension": ".py",
   "mimetype": "text/x-python",
   "name": "python",
   "nbconvert_exporter": "python",
   "pygments_lexer": "ipython3",
   "version": "3.11.3"
  },
  "orig_nbformat": 4
 },
 "nbformat": 4,
 "nbformat_minor": 2
}
