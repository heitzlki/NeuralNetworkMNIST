{
 "cells": [
  {
   "attachments": {},
   "cell_type": "markdown",
   "metadata": {},
   "source": [
    "# Künstliche neuronale Netze\n",
    "## Einstieg in die KI mithilfe von Bilderkennung \n",
    "\n",
    "![Alternative text](https://raw.githubusercontent.com/heitzlki/NeuralNetworkMNIST/main/assets/nn_example.png)\n",
    "*Dake Mysid, Wikipedia*\n"
   ]
  },
  {
   "attachments": {},
   "cell_type": "markdown",
   "metadata": {},
   "source": [
    "![Alternative text](https://raw.githubusercontent.com/heitzlki/NeuralNetworkMNIST/main/assets/title.webp)\n",
    "*Photo by Pop & Zebra on Unsplash*"
   ]
  },
  {
   "attachments": {},
   "cell_type": "markdown",
   "metadata": {},
   "source": [
    "# MNIST\n",
    "\n",
    "---\n",
    "\n",
    "- [link](http://yann.lecun.com/exdb/mnist/)\n",
    "- **M**odified **N**ational **I**nstitute of **S**tandards and **T**echnology database\n",
    "- Datenbank bestehend aus handgeschriebenen Zahlen (0-9)\n",
    "- 60.000 Trainingsbilder\n",
    "- 10.000 Testbilder\n",
    "- 28 × 28 Pixel Graustufen-Bilder\n",
    "- Einsteigerbeispiel für maschinelles Lernen / `Hello World!` für Bilderkennung\n",
    "---\n",
    "\n",
    "![MNIST Beispiel](https://raw.githubusercontent.com/heitzlki/NeuralNetworkMNIST/main/assets/mnist_example.png)\n",
    "*Josef Steppan, Wkipedia*\n",
    "\n",
    "---"
   ]
  },
  {
   "attachments": {},
   "cell_type": "markdown",
   "metadata": {},
   "source": [
    "# Bibliotheken und Werkzeuge:\n",
    "\n",
    "- Jupyter Notebooks: Interaktives Entwicklungswerkzeug zum Kombinieren von Code, Text und Visualisierungen in einem Dokument.\n",
    "- Pandas: Leistungsstarke Bibliothek für Datenmanipulation und -analyse, ideal für tabellarische Daten.\n",
    "- Numpy: Grundlegende Bibliothek für numerische Berechnungen mit effizienten Datenstrukturen.\n",
    "- Matplotlib: Bibliothek zur Erstellung von Diagrammen und Visualisierungen in Python.\n",
    "\n",
    "---"
   ]
  },
  {
   "cell_type": "code",
   "execution_count": 159,
   "metadata": {},
   "outputs": [
    {
     "name": "stdout",
     "output_type": "stream",
     "text": [
      "Defaulting to user installation because normal site-packages is not writeable\n",
      "Requirement already satisfied: pandas in /home/heitzlki/.local/lib/python3.11/site-packages (2.0.3)\n",
      "Requirement already satisfied: matplotlib in /home/heitzlki/.local/lib/python3.11/site-packages (3.7.1)\n",
      "Requirement already satisfied: numpy in /home/heitzlki/.local/lib/python3.11/site-packages (1.23.5)\n",
      "Requirement already satisfied: tqdm in /usr/lib/python3.11/site-packages (4.65.0)\n",
      "Requirement already satisfied: python-dateutil>=2.8.2 in /usr/lib/python3.11/site-packages (from pandas) (2.8.2)\n",
      "Requirement already satisfied: pytz>=2020.1 in /usr/lib/python3.11/site-packages (from pandas) (2023.3)\n",
      "Requirement already satisfied: tzdata>=2022.1 in /home/heitzlki/.local/lib/python3.11/site-packages (from pandas) (2023.3)\n",
      "Requirement already satisfied: contourpy>=1.0.1 in /home/heitzlki/.local/lib/python3.11/site-packages (from matplotlib) (1.0.7)\n",
      "Requirement already satisfied: cycler>=0.10 in /home/heitzlki/.local/lib/python3.11/site-packages (from matplotlib) (0.11.0)\n",
      "Requirement already satisfied: fonttools>=4.22.0 in /home/heitzlki/.local/lib/python3.11/site-packages (from matplotlib) (4.39.4)\n",
      "Requirement already satisfied: kiwisolver>=1.0.1 in /home/heitzlki/.local/lib/python3.11/site-packages (from matplotlib) (1.4.4)\n",
      "Requirement already satisfied: packaging>=20.0 in /usr/lib/python3.11/site-packages (from matplotlib) (23.0)\n",
      "Requirement already satisfied: pillow>=6.2.0 in /usr/lib64/python3.11/site-packages (from matplotlib) (9.4.0)\n",
      "Requirement already satisfied: pyparsing>=2.3.1 in /home/heitzlki/.local/lib/python3.11/site-packages (from matplotlib) (3.0.9)\n",
      "Requirement already satisfied: six>=1.5 in /usr/lib/python3.11/site-packages (from python-dateutil>=2.8.2->pandas) (1.16.0)\n"
     ]
    }
   ],
   "source": [
    "!pip install pandas matplotlib numpy tqdm"
   ]
  },
  {
   "cell_type": "code",
   "execution_count": 160,
   "metadata": {},
   "outputs": [],
   "source": [
    "import os\n",
    "import numpy as np\n",
    "import pandas as pd\n",
    "import matplotlib.pyplot as plt"
   ]
  },
  {
   "cell_type": "code",
   "execution_count": 236,
   "metadata": {},
   "outputs": [
    {
     "name": "stdout",
     "output_type": "stream",
     "text": [
      "   label  pixel0  pixel1  pixel2  pixel3  pixel4  pixel5  pixel6  pixel7  \\\n",
      "0      1       0       0       0       0       0       0       0       0   \n",
      "1      0       0       0       0       0       0       0       0       0   \n",
      "2      1       0       0       0       0       0       0       0       0   \n",
      "3      4       0       0       0       0       0       0       0       0   \n",
      "4      0       0       0       0       0       0       0       0       0   \n",
      "\n",
      "   pixel8  ...  pixel774  pixel775  pixel776  pixel777  pixel778  pixel779  \\\n",
      "0       0  ...         0         0         0         0         0         0   \n",
      "1       0  ...         0         0         0         0         0         0   \n",
      "2       0  ...         0         0         0         0         0         0   \n",
      "3       0  ...         0         0         0         0         0         0   \n",
      "4       0  ...         0         0         0         0         0         0   \n",
      "\n",
      "   pixel780  pixel781  pixel782  pixel783  \n",
      "0         0         0         0         0  \n",
      "1         0         0         0         0  \n",
      "2         0         0         0         0  \n",
      "3         0         0         0         0  \n",
      "4         0         0         0         0  \n",
      "\n",
      "[5 rows x 785 columns]\n"
     ]
    }
   ],
   "source": [
    "import os  # Importiere das Modul \"os\" für Betriebssystemoperationen\n",
    "\n",
    "path = f\"{os.path.dirname(os.path.abspath('__file__'))}/data/train.csv\"  # Setze den Pfad zur CSV-Datei \"train.csv\"\n",
    "# Die Funktionen `dirname` und `abspath` von `os.path` werden verwendet, um den absoluten Pfad des aktuellen Skripts zu erhalten\n",
    "# und das Verzeichnis dieses Skripts zu extrahieren. Der Pfad wird dann mit dem Unterverzeichnis \"data\" und dem Dateinamen \"train.csv\" kombiniert.\n",
    "\n",
    "data = pd.read_csv(path)  # Lade die Daten aus der CSV-Datei in ein Pandas DataFrame-Objekt\n",
    "# Die Funktion `read_csv` von Pandas wird verwendet, um die Daten in das DataFrame zu lesen.\n",
    "\n",
    "print(data.head())  # Gib die ersten paar Zeilen des DataFrames aus\n",
    "# Die Methode `head()` wird auf dem DataFrame aufgerufen, um eine Vorschau der Daten anzuzeigen.\n"
   ]
  },
  {
   "attachments": {},
   "cell_type": "markdown",
   "metadata": {},
   "source": [
    "---"
   ]
  },
  {
   "cell_type": "code",
   "execution_count": 162,
   "metadata": {},
   "outputs": [],
   "source": [
    "data = np.array(data)\n",
    "m, n = data.shape\n",
    "np.random.shuffle(data) # shuffle before splitting into dev and training sets\n",
    "\n",
    "data_dev = data[0:1000].T\n",
    "Y_dev = data_dev[0]\n",
    "X_dev = data_dev[1:n]\n",
    "X_dev = X_dev / 255.\n",
    "\n",
    "data_train = data[1000:m].T\n",
    "Y_train = data_train[0]\n",
    "X_train = data_train[1:n]\n",
    "X_train = X_train / 255.\n",
    "_,m_train = X_train.shape"
   ]
  },
  {
   "attachments": {},
   "cell_type": "markdown",
   "metadata": {},
   "source": [
    "---"
   ]
  },
  {
   "attachments": {},
   "cell_type": "markdown",
   "metadata": {},
   "source": [
    "Die Variable `data` wird in ein NumPy Array umgewandelt. Dadurch können wir mit den Daten effizienter arbeiten, da NumPy leistungsstarke Funktionen für numerische Berechnungen bietet."
   ]
  },
  {
   "cell_type": "code",
   "execution_count": 163,
   "metadata": {},
   "outputs": [
    {
     "name": "stdout",
     "output_type": "stream",
     "text": [
      "[[2 0 0 ... 0 0 0]\n",
      " [5 0 0 ... 0 0 0]\n",
      " [9 0 0 ... 0 0 0]\n",
      " ...\n",
      " [0 0 0 ... 0 0 0]\n",
      " [2 0 0 ... 0 0 0]\n",
      " [0 0 0 ... 0 0 0]]\n"
     ]
    }
   ],
   "source": [
    "data = np.array(data)\n",
    "print(data)"
   ]
  },
  {
   "attachments": {},
   "cell_type": "markdown",
   "metadata": {},
   "source": [
    "Die Anzahl der Zeilen (`m`) und die Anzahl der Spalten (`n`) des `data` Arrays werden den Variablen `m` und `n` zugewiesen."
   ]
  },
  {
   "cell_type": "code",
   "execution_count": 164,
   "metadata": {},
   "outputs": [
    {
     "name": "stdout",
     "output_type": "stream",
     "text": [
      "data.shape: (42000, 785)\n",
      "m: 42000\n",
      "n: 785\n"
     ]
    }
   ],
   "source": [
    "m, n = data.shape\n",
    "print(f\"data.shape: {data.shape}\")\n",
    "print(f\"m: {m}\")\n",
    "print(f\"n: {n}\")"
   ]
  },
  {
   "attachments": {},
   "cell_type": "markdown",
   "metadata": {},
   "source": [
    "Das `data` Array wird vor dem Aufteilen in Entwicklungs- und Trainingssets zufällig durcheinandergewürfelt. Dadurch wird sichergestellt, dass die Daten in einer zufälligen Reihenfolge vorliegen, um mögliche Muster zu vermeiden."
   ]
  },
  {
   "cell_type": "code",
   "execution_count": 165,
   "metadata": {},
   "outputs": [
    {
     "name": "stdout",
     "output_type": "stream",
     "text": [
      "Data vor `random.shuffle`:\n",
      "[[2 0 0 ... 0 0 0]\n",
      " [5 0 0 ... 0 0 0]\n",
      " [9 0 0 ... 0 0 0]\n",
      " ...\n",
      " [0 0 0 ... 0 0 0]\n",
      " [2 0 0 ... 0 0 0]\n",
      " [0 0 0 ... 0 0 0]]\n",
      "Data nach `random.shuffle`:\n",
      "[[7 0 0 ... 0 0 0]\n",
      " [1 0 0 ... 0 0 0]\n",
      " [5 0 0 ... 0 0 0]\n",
      " ...\n",
      " [2 0 0 ... 0 0 0]\n",
      " [3 0 0 ... 0 0 0]\n",
      " [6 0 0 ... 0 0 0]]\n"
     ]
    }
   ],
   "source": [
    "print(f\"Data vor `random.shuffle`:\\n{data}\")\n",
    "np.random.shuffle(data)\n",
    "print(f\"Data nach `random.shuffle`:\\n{data}\")"
   ]
  },
  {
   "attachments": {},
   "cell_type": "markdown",
   "metadata": {},
   "source": [
    "Die ersten 1000 Zeilen des `data` Arrays werden in das `data_dev` Array kopiert und transponiert (`T`). Dadurch werden die Daten für das Entwicklungssatz-Subset vorbereitet."
   ]
  },
  {
   "cell_type": "code",
   "execution_count": 166,
   "metadata": {},
   "outputs": [
    {
     "name": "stdout",
     "output_type": "stream",
     "text": [
      "Data_dev:\n",
      "[[7 1 5 ... 4 6 0]\n",
      " [0 0 0 ... 0 0 0]\n",
      " [0 0 0 ... 0 0 0]\n",
      " ...\n",
      " [0 0 0 ... 0 0 0]\n",
      " [0 0 0 ... 0 0 0]\n",
      " [0 0 0 ... 0 0 0]]\n"
     ]
    }
   ],
   "source": [
    "data_dev = data[0:1000].T\n",
    "print(f\"Data_dev:\\n{data_dev}\")"
   ]
  },
  {
   "attachments": {},
   "cell_type": "markdown",
   "metadata": {},
   "source": [
    "Die erste Spalte (`Y_dev`) und die Spalten 1 bis `n` (`X_dev`) des `data_dev` Arrays werden in separate Arrays für die Zielvariablen (Label von Zahlen) und die Eingabevariablen (Pixel von Zahlen) im Entwicklungssatz aufgeteilt."
   ]
  },
  {
   "cell_type": "code",
   "execution_count": 167,
   "metadata": {},
   "outputs": [
    {
     "name": "stdout",
     "output_type": "stream",
     "text": [
      "Y_dev:\n",
      "[7 1 5 9 6 7 8 1 9 0 7 7 4 7 0 6 9 3 7 9 7 6 1 7 2 1 3 6 2 5 0 4 8 9 6 7 3\n",
      " 2 4 4 8 9 3 5 2 8 2 6 6 4 8 1 0 4 0 4 4 1 7 1 3 4 7 4 1 1 5 8 6 2 7 5 7 8\n",
      " 5 3 5 7 0 0 8 8 0 2 6 8 9 3 5 9 2 9 0 7 8 2 3 7 7 0 3 7 1 8 0 4 9 0 1 8 3\n",
      " 6 1 3 7 5 9 5 5 0 5 9 4 8 7 5 0 8 0 3 6 0 0 7 6 5 3 1 7 1 7 1 2 4 8 8 4 3\n",
      " 1 2 4 2 1 3 4 1 9 8 9 5 9 5 4 7 7 6 0 8 3 7 0 7 8 4 1 7 8 7 5 8 2 0 2 2 9\n",
      " 7 2 8 9 0 4 5 1 0 9 7 0 3 1 5 2 8 1 9 7 2 2 1 7 7 8 1 7 4 2 8 1 5 8 7 7 6\n",
      " 6 2 1 4 0 2 5 9 1 3 8 9 8 9 8 7 8 8 7 5 7 4 0 1 4 7 6 1 2 0 2 4 2 0 8 4 7\n",
      " 6 5 7 8 2 3 5 0 9 0 3 4 6 2 6 6 5 3 2 4 7 5 3 5 1 3 7 0 6 7 8 9 3 5 5 7 7\n",
      " 9 9 4 3 2 3 5 0 1 0 6 9 3 9 7 1 3 3 5 7 2 3 0 0 9 8 0 5 8 6 7 7 4 3 9 6 7\n",
      " 1 9 8 9 8 9 1 9 6 5 6 9 9 8 2 0 9 1 4 0 0 1 8 8 1 2 0 1 3 4 5 9 9 8 9 4 6\n",
      " 7 9 1 9 7 1 3 6 0 0 5 6 0 7 0 2 5 9 7 3 0 7 7 6 5 8 1 1 1 6 3 1 8 2 3 7 2\n",
      " 9 9 4 2 5 7 1 0 6 4 3 1 3 5 8 6 5 8 8 6 3 3 6 4 1 1 1 0 0 1 5 4 4 4 6 4 1\n",
      " 2 5 9 3 2 9 2 8 6 5 0 0 8 8 5 0 3 8 4 8 9 0 7 3 5 4 6 9 6 1 1 0 0 4 3 3 1\n",
      " 3 9 7 7 3 1 5 2 9 0 2 6 2 7 3 4 2 0 8 3 3 3 3 7 0 1 6 7 1 0 3 4 5 5 0 0 5\n",
      " 1 0 9 1 9 4 4 7 4 5 6 5 7 5 2 5 1 1 6 0 6 4 1 1 4 1 5 6 6 7 4 3 9 3 7 4 9\n",
      " 2 6 5 9 5 2 7 2 3 3 8 2 7 2 3 0 4 3 9 4 0 8 7 5 2 8 9 3 0 3 1 1 7 5 6 2 3\n",
      " 6 6 3 6 4 1 5 2 4 4 4 1 3 0 9 1 3 3 0 5 9 5 0 3 1 0 1 1 9 0 0 2 9 1 7 4 9\n",
      " 3 1 7 2 3 6 2 3 4 4 2 1 1 5 3 6 1 1 4 5 0 3 1 7 8 5 8 1 9 1 6 4 8 6 1 4 0\n",
      " 6 5 2 2 3 6 8 0 0 6 8 4 9 1 2 8 7 6 3 0 5 2 0 1 2 9 4 5 8 2 5 9 1 2 4 7 7\n",
      " 9 3 0 4 9 4 3 4 7 8 5 9 2 5 1 4 6 9 7 6 8 3 0 5 6 0 0 3 7 5 1 7 2 3 4 4 7\n",
      " 1 9 2 6 0 0 2 5 9 2 3 9 4 6 2 6 0 9 8 8 6 5 6 0 6 9 2 8 0 7 5 2 6 1 9 2 7\n",
      " 3 5 5 0 6 3 0 3 3 2 9 1 4 6 7 9 4 7 8 1 1 1 0 4 1 8 8 6 9 0 9 2 8 7 8 7 0\n",
      " 8 7 5 7 8 5 0 4 5 2 2 9 3 1 5 3 9 2 5 8 9 0 5 4 2 2 8 4 0 4 2 8 1 3 4 4 0\n",
      " 7 7 9 6 9 4 1 3 6 3 6 7 0 5 3 6 4 8 0 7 4 1 9 4 3 9 0 7 1 6 5 9 6 5 3 4 8\n",
      " 0 7 4 4 7 4 3 5 0 2 0 5 2 4 8 3 4 9 7 5 5 7 5 8 9 3 6 2 1 4 9 2 1 4 0 7 0\n",
      " 3 9 8 4 2 9 1 4 7 3 1 5 2 6 8 2 5 9 2 6 4 3 3 7 5 8 8 9 6 6 9 6 4 6 2 4 3\n",
      " 7 0 4 4 8 7 7 2 3 5 7 5 4 6 3 5 2 3 6 8 8 5 9 0 7 8 8 2 3 3 4 7 8 9 9 4 6\n",
      " 0]\n",
      "X_dev:\n",
      "[[0 0 0 ... 0 0 0]\n",
      " [0 0 0 ... 0 0 0]\n",
      " [0 0 0 ... 0 0 0]\n",
      " ...\n",
      " [0 0 0 ... 0 0 0]\n",
      " [0 0 0 ... 0 0 0]\n",
      " [0 0 0 ... 0 0 0]]\n"
     ]
    }
   ],
   "source": [
    "Y_dev = data_dev[0]\n",
    "X_dev = data_dev[1:n]\n",
    "print(f\"Y_dev:\\n{Y_dev}\")\n",
    "print(f\"X_dev:\\n{X_dev}\")"
   ]
  },
  {
   "attachments": {},
   "cell_type": "markdown",
   "metadata": {},
   "source": [
    "Die Werte in `X_dev` werden durch 255 dividiert, um sie auf den Bereich von 0 bis 1 zu normalisieren. Dies ist häufig bei Bildverarbeitungsaufgaben der Fall, um die Skalierung der Pixelwerte anzupassen."
   ]
  },
  {
   "cell_type": "code",
   "execution_count": 168,
   "metadata": {},
   "outputs": [
    {
     "name": "stdout",
     "output_type": "stream",
     "text": [
      "X_dev:\n",
      "[[0. 0. 0. ... 0. 0. 0.]\n",
      " [0. 0. 0. ... 0. 0. 0.]\n",
      " [0. 0. 0. ... 0. 0. 0.]\n",
      " ...\n",
      " [0. 0. 0. ... 0. 0. 0.]\n",
      " [0. 0. 0. ... 0. 0. 0.]\n",
      " [0. 0. 0. ... 0. 0. 0.]]\n",
      "\n",
      "\n",
      "Beispiel: [  7   0   0   0   0   0   0   0   0   0   0   0   0   0   0   0   0   0\n",
      "   0   0   0   0   0   0   0   0   0   0   0   0   0   0   0   0   0   0\n",
      "   0   0   0   0   0   0   0   0   0   0   0   0   0   0   0   0   0   0\n",
      "   0   0   0   0   0   0   0   0   0   0   0   0   0   0   0   0   0   0\n",
      "   0   0   0   0   0   0   0   0   0   0   0   0   0   0   0   0   0   0\n",
      "   0   0   0   0   0   0   0   0   0   0   0   0   0   0   0   0   0   0\n",
      "   0   0   0   0   0   0   0   0   0   0   0   0   0   0   0   0   0   0\n",
      "   0   0   0   0   0   0   0   0   0   0   0   0   0   0   0   0   0   0\n",
      "   0   0   0   0   0   0   0   0   0   0   0   0   0   0   0   0   0   0\n",
      "   0   0   0   0   0   0   0   0   0   0   0   0   0   0   0   0   0   0\n",
      "  64   0  64 128  64 128  64 128 128 191   0   0   0   0   0   0   0   0\n",
      "   0   0   0   0   0   0   0   0   0 255 255 255 255 255 255 255 255 255\n",
      " 255 255   0   0   0   0   0   0   0   0   0   0   0   0   0   0   0   0\n",
      "   0  64 128 128 128 191 191 128 255 255 255 128   0   0   0   0   0   0\n",
      "   0   0   0   0   0   0   0   0   0   0   0   0   0   0   0   0   0 191\n",
      " 255 255 191   0   0   0   0   0   0   0   0   0   0   0   0   0   0   0\n",
      "   0   0   0   0   0   0   0   0  64 255 255 255   0   0   0   0   0   0\n",
      "   0   0   0   0   0   0   0   0   0   0   0   0   0   0   0   0   0 128\n",
      " 255 255 255  64   0   0   0   0   0   0   0   0   0   0   0   0   0   0\n",
      "   0   0   0   0   0   0   0   0  64 255 255 255 128  64   0 128 128 128\n",
      "   0   0   0   0   0   0   0   0   0   0   0   0   0   0 191 191 128 128\n",
      " 191 255 255 255 255 255 255 255 191   0   0   0   0   0   0   0   0   0\n",
      "   0   0   0   0   0   0 255 255 255 255 255 255 255 255 255 255 191  64\n",
      "   0   0   0   0   0   0   0   0   0   0   0   0   0   0   0   0  64 255\n",
      " 255 255 255 255 255 255 191  64   0   0   0   0   0   0   0   0   0   0\n",
      "   0   0   0   0   0   0   0   0   0   0 128 255 255 191 128   0   0   0\n",
      "   0   0   0   0   0   0   0   0   0   0   0   0   0   0   0   0   0   0\n",
      "   0   0 128 255 255  64   0   0   0   0   0   0   0   0   0   0   0   0\n",
      "   0   0   0   0   0   0   0   0   0   0   0   0 255 255 128   0   0   0\n",
      "   0   0   0   0   0   0   0   0   0   0   0   0   0   0   0   0   0   0\n",
      "   0   0   0   0 255 255  64   0   0   0   0   0   0   0   0   0   0   0\n",
      "   0   0   0   0   0   0   0   0   0   0   0   0   0 128 255 255   0   0\n",
      "   0   0   0   0   0   0   0   0   0   0   0   0   0   0   0   0   0   0\n",
      "   0   0   0   0   0 128 255 255   0   0   0   0   0   0   0   0   0   0\n",
      "   0   0   0   0   0   0   0   0   0   0   0   0   0   0   0  64 255 255\n",
      "  64   0   0   0   0   0   0   0   0   0   0   0   0   0   0   0   0   0\n",
      "   0   0   0   0   0   0   0   0 191 255 255   0   0   0   0   0   0   0\n",
      "   0   0   0   0   0   0   0   0   0   0   0   0   0   0   0   0   0   0\n",
      "  64 255 255 191   0   0   0   0   0   0   0   0   0   0   0   0   0   0\n",
      "   0   0   0   0   0   0   0   0   0   0   0  64 255 255 128   0   0   0\n",
      "   0   0   0   0   0   0   0   0   0   0   0   0   0   0   0   0   0   0\n",
      "   0   0   0   0   0   0   0   0   0   0   0   0   0   0   0   0   0   0\n",
      "   0   0   0   0   0   0   0   0   0   0   0   0   0   0   0   0   0   0\n",
      "   0   0   0   0   0   0   0   0   0   0   0]\n",
      "Beispiel nach normalisierung: [0.02745098 0.         0.         0.         0.         0.\n",
      " 0.         0.         0.         0.         0.         0.\n",
      " 0.         0.         0.         0.         0.         0.\n",
      " 0.         0.         0.         0.         0.         0.\n",
      " 0.         0.         0.         0.         0.         0.\n",
      " 0.         0.         0.         0.         0.         0.\n",
      " 0.         0.         0.         0.         0.         0.\n",
      " 0.         0.         0.         0.         0.         0.\n",
      " 0.         0.         0.         0.         0.         0.\n",
      " 0.         0.         0.         0.         0.         0.\n",
      " 0.         0.         0.         0.         0.         0.\n",
      " 0.         0.         0.         0.         0.         0.\n",
      " 0.         0.         0.         0.         0.         0.\n",
      " 0.         0.         0.         0.         0.         0.\n",
      " 0.         0.         0.         0.         0.         0.\n",
      " 0.         0.         0.         0.         0.         0.\n",
      " 0.         0.         0.         0.         0.         0.\n",
      " 0.         0.         0.         0.         0.         0.\n",
      " 0.         0.         0.         0.         0.         0.\n",
      " 0.         0.         0.         0.         0.         0.\n",
      " 0.         0.         0.         0.         0.         0.\n",
      " 0.         0.         0.         0.         0.         0.\n",
      " 0.         0.         0.         0.         0.         0.\n",
      " 0.         0.         0.         0.         0.         0.\n",
      " 0.         0.         0.         0.         0.         0.\n",
      " 0.         0.         0.         0.         0.         0.\n",
      " 0.         0.         0.         0.         0.         0.\n",
      " 0.         0.         0.         0.         0.         0.\n",
      " 0.         0.         0.         0.         0.         0.\n",
      " 0.         0.         0.         0.         0.         0.\n",
      " 0.25098039 0.         0.25098039 0.50196078 0.25098039 0.50196078\n",
      " 0.25098039 0.50196078 0.50196078 0.74901961 0.         0.\n",
      " 0.         0.         0.         0.         0.         0.\n",
      " 0.         0.         0.         0.         0.         0.\n",
      " 0.         0.         0.         1.         1.         1.\n",
      " 1.         1.         1.         1.         1.         1.\n",
      " 1.         1.         0.         0.         0.         0.\n",
      " 0.         0.         0.         0.         0.         0.\n",
      " 0.         0.         0.         0.         0.         0.\n",
      " 0.         0.25098039 0.50196078 0.50196078 0.50196078 0.74901961\n",
      " 0.74901961 0.50196078 1.         1.         1.         0.50196078\n",
      " 0.         0.         0.         0.         0.         0.\n",
      " 0.         0.         0.         0.         0.         0.\n",
      " 0.         0.         0.         0.         0.         0.\n",
      " 0.         0.         0.         0.         0.         0.74901961\n",
      " 1.         1.         0.74901961 0.         0.         0.\n",
      " 0.         0.         0.         0.         0.         0.\n",
      " 0.         0.         0.         0.         0.         0.\n",
      " 0.         0.         0.         0.         0.         0.\n",
      " 0.         0.         0.25098039 1.         1.         1.\n",
      " 0.         0.         0.         0.         0.         0.\n",
      " 0.         0.         0.         0.         0.         0.\n",
      " 0.         0.         0.         0.         0.         0.\n",
      " 0.         0.         0.         0.         0.         0.50196078\n",
      " 1.         1.         1.         0.25098039 0.         0.\n",
      " 0.         0.         0.         0.         0.         0.\n",
      " 0.         0.         0.         0.         0.         0.\n",
      " 0.         0.         0.         0.         0.         0.\n",
      " 0.         0.         0.25098039 1.         1.         1.\n",
      " 0.50196078 0.25098039 0.         0.50196078 0.50196078 0.50196078\n",
      " 0.         0.         0.         0.         0.         0.\n",
      " 0.         0.         0.         0.         0.         0.\n",
      " 0.         0.         0.74901961 0.74901961 0.50196078 0.50196078\n",
      " 0.74901961 1.         1.         1.         1.         1.\n",
      " 1.         1.         0.74901961 0.         0.         0.\n",
      " 0.         0.         0.         0.         0.         0.\n",
      " 0.         0.         0.         0.         0.         0.\n",
      " 1.         1.         1.         1.         1.         1.\n",
      " 1.         1.         1.         1.         0.74901961 0.25098039\n",
      " 0.         0.         0.         0.         0.         0.\n",
      " 0.         0.         0.         0.         0.         0.\n",
      " 0.         0.         0.         0.         0.25098039 1.\n",
      " 1.         1.         1.         1.         1.         1.\n",
      " 0.74901961 0.25098039 0.         0.         0.         0.\n",
      " 0.         0.         0.         0.         0.         0.\n",
      " 0.         0.         0.         0.         0.         0.\n",
      " 0.         0.         0.         0.         0.50196078 1.\n",
      " 1.         0.74901961 0.50196078 0.         0.         0.\n",
      " 0.         0.         0.         0.         0.         0.\n",
      " 0.         0.         0.         0.         0.         0.\n",
      " 0.         0.         0.         0.         0.         0.\n",
      " 0.         0.         0.50196078 1.         1.         0.25098039\n",
      " 0.         0.         0.         0.         0.         0.\n",
      " 0.         0.         0.         0.         0.         0.\n",
      " 0.         0.         0.         0.         0.         0.\n",
      " 0.         0.         0.         0.         0.         0.\n",
      " 1.         1.         0.50196078 0.         0.         0.\n",
      " 0.         0.         0.         0.         0.         0.\n",
      " 0.         0.         0.         0.         0.         0.\n",
      " 0.         0.         0.         0.         0.         0.\n",
      " 0.         0.         0.         0.         1.         1.\n",
      " 0.25098039 0.         0.         0.         0.         0.\n",
      " 0.         0.         0.         0.         0.         0.\n",
      " 0.         0.         0.         0.         0.         0.\n",
      " 0.         0.         0.         0.         0.         0.\n",
      " 0.         0.50196078 1.         1.         0.         0.\n",
      " 0.         0.         0.         0.         0.         0.\n",
      " 0.         0.         0.         0.         0.         0.\n",
      " 0.         0.         0.         0.         0.         0.\n",
      " 0.         0.         0.         0.         0.         0.50196078\n",
      " 1.         1.         0.         0.         0.         0.\n",
      " 0.         0.         0.         0.         0.         0.\n",
      " 0.         0.         0.         0.         0.         0.\n",
      " 0.         0.         0.         0.         0.         0.\n",
      " 0.         0.         0.         0.25098039 1.         1.\n",
      " 0.25098039 0.         0.         0.         0.         0.\n",
      " 0.         0.         0.         0.         0.         0.\n",
      " 0.         0.         0.         0.         0.         0.\n",
      " 0.         0.         0.         0.         0.         0.\n",
      " 0.         0.         0.74901961 1.         1.         0.\n",
      " 0.         0.         0.         0.         0.         0.\n",
      " 0.         0.         0.         0.         0.         0.\n",
      " 0.         0.         0.         0.         0.         0.\n",
      " 0.         0.         0.         0.         0.         0.\n",
      " 0.25098039 1.         1.         0.74901961 0.         0.\n",
      " 0.         0.         0.         0.         0.         0.\n",
      " 0.         0.         0.         0.         0.         0.\n",
      " 0.         0.         0.         0.         0.         0.\n",
      " 0.         0.         0.         0.         0.         0.25098039\n",
      " 1.         1.         0.50196078 0.         0.         0.\n",
      " 0.         0.         0.         0.         0.         0.\n",
      " 0.         0.         0.         0.         0.         0.\n",
      " 0.         0.         0.         0.         0.         0.\n",
      " 0.         0.         0.         0.         0.         0.\n",
      " 0.         0.         0.         0.         0.         0.\n",
      " 0.         0.         0.         0.         0.         0.\n",
      " 0.         0.         0.         0.         0.         0.\n",
      " 0.         0.         0.         0.         0.         0.\n",
      " 0.         0.         0.         0.         0.         0.\n",
      " 0.         0.         0.         0.         0.         0.\n",
      " 0.         0.         0.         0.         0.        ]\n"
     ]
    }
   ],
   "source": [
    "X_dev = X_dev / 255.\n",
    "print(f\"X_dev:\\n{X_dev}\\n\\n\")\n",
    "\n",
    "print(f\"Beispiel: {data[0]}\")\n",
    "print(f\"Beispiel nach normalisierung: {data[0]/255}\")"
   ]
  },
  {
   "attachments": {},
   "cell_type": "markdown",
   "metadata": {},
   "source": [
    "Selbige umwandlungschritte erfolgen auch auf Trainingsdaten."
   ]
  },
  {
   "cell_type": "code",
   "execution_count": 169,
   "metadata": {},
   "outputs": [],
   "source": [
    "data_train = data[1000:m].T  # Die Zeilen von Index 1000 bis zum Ende des 'data'-Arrays werden in das 'data_train'-Array kopiert und transponiert.\n",
    "\n",
    "Y_train = data_train[0]  # Die erste Spalte des 'data_train'-Arrays wird dem 'Y_train'-Array zugewiesen.\n",
    "X_train = data_train[1:n]  # Die Spalten 1 bis 'n' des 'data_train'-Arrays werden dem 'X_train'-Array zugewiesen.\n",
    "\n",
    "X_train = X_train / 255.  # Die Werte in 'X_train' werden durch 255 geteilt, um sie auf den Bereich von 0 bis 1 zu normalisieren.\n",
    "\n",
    "_, m_train = X_train.shape  # Die Anzahl der Zeilen des 'X_train'-Arrays wird der Variable 'm_train' zugewiesen."
   ]
  },
  {
   "attachments": {},
   "cell_type": "markdown",
   "metadata": {},
   "source": [
    "---"
   ]
  },
  {
   "cell_type": "code",
   "execution_count": 170,
   "metadata": {},
   "outputs": [],
   "source": [
    "data = np.array(data)  # Das 'data'-Array wird in ein NumPy-Array umgewandelt.\n",
    "\n",
    "m, n = data.shape  # Die Anzahl der Zeilen ('m') und Spalten ('n') des 'data'-Arrays werden den Variablen zugewiesen.\n",
    "\n",
    "np.random.shuffle(data)  # Das 'data'-Array wird vor der Aufteilung in Entwicklungs- und Trainingssätze zufällig durcheinandergewürfelt.\n",
    "\n",
    "data_dev = data[0:1000].T  # Die ersten 1000 Zeilen des 'data'-Arrays werden in das 'data_dev'-Array kopiert und transponiert.\n",
    "\n",
    "Y_dev = data_dev[0]  # Die erste Spalte des 'data_dev'-Arrays wird dem 'Y_dev'-Array zugewiesen.\n",
    "X_dev = data_dev[1:n]  # Die Spalten 1 bis 'n' des 'data_dev'-Arrays werden dem 'X_dev'-Array zugewiesen.\n",
    "\n",
    "X_dev = X_dev / 255.  # Die Werte in 'X_dev' werden durch 255 geteilt, um sie auf den Bereich von 0 bis 1 zu normalisieren.\n",
    "\n",
    "data_train = data[1000:m].T  # Die Zeilen von Index 1000 bis zum Ende des 'data'-Arrays werden in das 'data_train'-Array kopiert und transponiert.\n",
    "\n",
    "Y_train = data_train[0]  # Die erste Spalte des 'data_train'-Arrays wird dem 'Y_train'-Array zugewiesen.\n",
    "X_train = data_train[1:n]  # Die Spalten 1 bis 'n' des 'data_train'-Arrays werden dem 'X_train'-Array zugewiesen.\n",
    "\n",
    "X_train = X_train / 255.  # Die Werte in 'X_train' werden durch 255 geteilt, um sie auf den Bereich von 0 bis 1 zu normalisieren.\n",
    "\n",
    "_, m_train = X_train.shape  # Die Anzahl der Zeilen des 'X_train'-Arrays wird der Variable 'm_train' zugewiesen.\n",
    "\n"
   ]
  },
  {
   "attachments": {},
   "cell_type": "markdown",
   "metadata": {},
   "source": [
    "---"
   ]
  },
  {
   "cell_type": "code",
   "execution_count": 171,
   "metadata": {},
   "outputs": [
    {
     "data": {
      "image/png": "[encoded data removed]",
      "text/plain": [
       "<Figure size 640x480 with 1 Axes>"
      ]
     },
     "metadata": {},
     "output_type": "display_data"
    }
   ],
   "source": [
    "def show_image(index = 0):\n",
    "    current_image = X_train[:, index, None]\n",
    "    label = Y_train[index]\n",
    "\n",
    "    current_image = current_image.reshape((28, 28))\n",
    "    plt.imshow(current_image, interpolation='nearest', cmap=\"Greys\")\n",
    "    plt.title(f\"Index: {index} \\nLabel: {label}\")\n",
    "    plt.show()\n",
    "\n",
    "#int(input(\"Enter a number (0 - 59999): \"))\n",
    "show_image(2)"
   ]
  },
  {
   "attachments": {},
   "cell_type": "markdown",
   "metadata": {},
   "source": [
    "---\n",
    "\n",
    "# Aufbau des Neuronalen Netzes\n",
    "\n",
    "![MNIST Beispiel](https://raw.githubusercontent.com/heitzlki/NeuralNetworkMNIST/main/assets/nn1.png)\n",
    "\n",
    "- Input Layer [0]:\n",
    "    - Nodes im input layer: 784 (28x28 Pixel)\n",
    "    - Normalisierung (Wert / 255) der Eingabewerte (0 -> schwarz, 255 -> weiß)\n",
    "\n",
    "<br>\n",
    "\n",
    "- Hidden Layer [1]:\n",
    "    - Nodes im hidden layer: 10\n",
    "    - Berechnung von Node Wert im Hidden Layer\n",
    "    - ReLU-Aktivierung\n",
    "\n",
    "<br>\n",
    "\n",
    "- Output Layer [2]:\n",
    "    - Nodes im output layer: 10 (Zahlen 0-9)\n",
    "    - Berechnung von Node Wert\n",
    "    - Softmax-Aktivierung\n",
    "\n",
    "---"
   ]
  },
  {
   "attachments": {},
   "cell_type": "markdown",
   "metadata": {},
   "source": [
    "**Forward propagation**\n",
    "\n",
    "$$Z^{[1]} = W^{[1]} X + b^{[1]}$$\n",
    "$$A^{[1]} = g_{\\text{ReLU}}(Z^{[1]}))$$\n",
    "$$Z^{[2]} = W^{[2]} A^{[1]} + b^{[2]}$$\n",
    "$$A^{[2]} = g_{\\text{softmax}}(Z^{[2]})$$\n",
    "\n",
    "**Backward propagation**\n",
    "\n",
    "$$dZ^{[2]} = A^{[2]} - Y$$\n",
    "$$dW^{[2]} = \\frac{1}{m} dZ^{[2]} A^{[1]T}$$\n",
    "$$dB^{[2]} = \\frac{1}{m} \\Sigma {dZ^{[2]}}$$\n",
    "$$dZ^{[1]} = W^{[2]T} dZ^{[2]} .* g^{[1]\\prime} (z^{[1]})$$\n",
    "$$dW^{[1]} = \\frac{1}{m} dZ^{[1]} A^{[0]T}$$\n",
    "$$dB^{[1]} = \\frac{1}{m} \\Sigma {dZ^{[1]}}$$\n",
    "\n",
    "**Parameter updates**\n",
    "\n",
    "$$W^{[2]} := W^{[2]} - \\alpha dW^{[2]}$$\n",
    "$$b^{[2]} := b^{[2]} - \\alpha db^{[2]}$$\n",
    "$$W^{[1]} := W^{[1]} - \\alpha dW^{[1]}$$\n",
    "$$b^{[1]} := b^{[1]} - \\alpha db^{[1]}$$\n",
    "\n",
    "**Vars and shapes**\n",
    "\n",
    "Forward prop\n",
    "\n",
    "- $A^{[0]} = X$: 784 x m\n",
    "- $Z^{[1]} \\sim A^{[1]}$: 10 x m\n",
    "- $W^{[1]}$: 10 x 784 (as $W^{[1]} A^{[0]} \\sim Z^{[1]}$)\n",
    "- $B^{[1]}$: 10 x 1\n",
    "- $Z^{[2]} \\sim A^{[2]}$: 10 x m\n",
    "- $W^{[1]}$: 10 x 10 (as $W^{[2]} A^{[1]} \\sim Z^{[2]}$)\n",
    "- $B^{[2]}$: 10 x 1\n",
    "\n",
    "Backprop\n",
    "\n",
    "- $dZ^{[2]}$: 10 x m ($~A^{[2]}$)\n",
    "- $dW^{[2]}$: 10 x 10\n",
    "- $dB^{[2]}$: 10 x 1\n",
    "- $dZ^{[1]}$: 10 x m ($~A^{[1]}$)\n",
    "- $dW^{[1]}$: 10 x 10\n",
    "- $dB^{[1]}$: 10 x 1\n",
    "\n",
    "---"
   ]
  },
  {
   "attachments": {},
   "cell_type": "markdown",
   "metadata": {},
   "source": [
    "**Forward propagation**\n",
    "\n",
    "$$Z^{[1]} = W^{[1]} A^{[0]} + b^{[1]}$$\n",
    "$$A^{[1]} = g_{\\text{ReLU}}(Z^{[1]}))$$\n",
    "$$Z^{[2]} = W^{[2]} A^{[1]} + b^{[2]}$$\n",
    "$$A^{[2]} = g_{\\text{softmax}}(Z^{[2]})$$\n",
    "\n",
    "- $A^{[0]} = X$: 784 x m\n",
    "- $Z^{[1]} \\sim A^{[1]}$: 10 x m\n",
    "- $W^{[1]}$: 10 x 784 (as $W^{[1]} A^{[0]} \\sim Z^{[1]}$)\n",
    "- $b^{[1]}$: 10 x 1\n",
    "- $Z^{[2]} \\sim A^{[2]}$: 10 x m\n",
    "- $W^{[2]}$: 10 x 10 (as $W^{[2]} A^{[1]} \\sim Z^{[2]}$)\n",
    "- $b^{[2]}$: 10 x 1\n"
   ]
  },
  {
   "cell_type": "code",
   "execution_count": 172,
   "metadata": {},
   "outputs": [
    {
     "name": "stdout",
     "output_type": "stream",
     "text": [
      "W1.shape: (10, 784)\n",
      "b1.shape: (10, 1)\n",
      "W2.shape: (10, 10)\n",
      "b2.shape: (10, 1)\n",
      "W1:\n",
      "[[-0.14197434  0.49317808  0.16045962 ...  0.23968672 -0.44861517\n",
      "   0.49692698]\n",
      " [-0.06799175  0.46149486 -0.24496155 ... -0.4767191  -0.05868748\n",
      "  -0.19306051]\n",
      " [ 0.12095084  0.16225093  0.29715186 ... -0.24349541  0.33039368\n",
      "   0.30536423]\n",
      " ...\n",
      " [ 0.10413786 -0.20014319 -0.10331896 ...  0.31852451 -0.27651825\n",
      "   0.16035645]\n",
      " [ 0.04944221 -0.09464702 -0.48788859 ...  0.43592554  0.04171022\n",
      "   0.49313123]\n",
      " [-0.26588839 -0.11889829  0.1580769  ... -0.10060762 -0.00282091\n",
      "   0.29175613]]\n",
      "b1:\n",
      "[[ 0.11486179]\n",
      " [ 0.22237593]\n",
      " [-0.20981025]\n",
      " [-0.1964708 ]\n",
      " [ 0.41654233]\n",
      " [ 0.22750604]\n",
      " [-0.05621821]\n",
      " [ 0.28187749]\n",
      " [ 0.06919889]\n",
      " [ 0.06791656]]\n",
      "W2:\n",
      "[[ 0.07507167 -0.36502945  0.1976673  -0.0660388   0.41634486  0.15701612\n",
      "  -0.28211909 -0.21291887  0.41247877  0.164329  ]\n",
      " [ 0.01206111  0.16518014  0.32238903 -0.24255593  0.32498526 -0.02442699\n",
      "  -0.30171548 -0.20291277  0.48628866 -0.48156815]\n",
      " [-0.14114748  0.05217642 -0.15477868  0.23733523  0.1521715   0.49571197\n",
      "  -0.34431559 -0.377701    0.35335715 -0.14065742]\n",
      " [-0.34502766 -0.4857465   0.04228675  0.31670251  0.09344043  0.36278049\n",
      "  -0.20534466  0.45099298  0.15042315  0.32318514]\n",
      " [-0.45599255 -0.16510748 -0.1867273  -0.01251693 -0.07273037  0.49455012\n",
      "   0.06256503  0.14516637  0.46250282  0.22483266]\n",
      " [ 0.19576934 -0.27042807 -0.25967913  0.11355016 -0.30875729  0.28294927\n",
      "  -0.11898385 -0.38224319 -0.33169495 -0.3003141 ]\n",
      " [-0.15413674 -0.25022529  0.39607548  0.02037005 -0.37647279 -0.00894431\n",
      "   0.31640079  0.25820724 -0.38873919 -0.46842584]\n",
      " [ 0.07372652  0.27251762  0.23615299  0.25376463  0.26885019 -0.45803503\n",
      "   0.10654457  0.1175099   0.3047797   0.28331447]\n",
      " [-0.24057474 -0.39922707  0.00550125  0.34041962  0.2731021   0.06178633\n",
      "   0.38378112 -0.10760345 -0.43600618  0.03448202]\n",
      " [-0.23033722 -0.27029075  0.15408814  0.3060158  -0.02199482 -0.13325569\n",
      "  -0.20339524 -0.36428306 -0.07075987 -0.20475054]]\n",
      "b2:\n",
      "[[-0.2931173 ]\n",
      " [ 0.00414961]\n",
      " [-0.073489  ]\n",
      " [-0.27441476]\n",
      " [ 0.35600528]\n",
      " [-0.21140576]\n",
      " [ 0.34801785]\n",
      " [ 0.24352434]\n",
      " [ 0.15697519]\n",
      " [-0.35556743]]\n"
     ]
    }
   ],
   "source": [
    "def init_params():\n",
    "    W1 = np.random.rand(10, 784) - 0.5\n",
    "    b1 = np.random.rand(10, 1) - 0.5\n",
    "    W2 = np.random.rand(10, 10) - 0.5\n",
    "    b2 = np.random.rand(10, 1) - 0.5\n",
    "    return W1, b1, W2, b2\n",
    "\n",
    "W1, b1, W2, b2 = init_params()\n",
    "print(f\"W1.shape: {W1.shape}\")\n",
    "print(f\"b1.shape: {b1.shape}\")\n",
    "print(f\"W2.shape: {W2.shape}\")\n",
    "print(f\"b2.shape: {b2.shape}\")\n",
    "\n",
    "print(f\"W1:\\n{W1}\")\n",
    "print(f\"b1:\\n{b1}\")\n",
    "print(f\"W2:\\n{W2}\")\n",
    "print(f\"b2:\\n{b2}\")\n"
   ]
  },
  {
   "cell_type": "code",
   "execution_count": 173,
   "metadata": {},
   "outputs": [],
   "source": [
    "def plot_function_graph(start = -10, end = 10, function = lambda x: x):\n",
    "    fig, ax = plt.subplots()\n",
    "\n",
    "    # Draw horizontal line at y=0\n",
    "    ax.axhline(0, color='black')\n",
    "\n",
    "    # Draw vertical line at x=0\n",
    "    ax.axvline(0, color='black')\n",
    "\n",
    "    # Set the x and y limits\n",
    "    ax.set_xlim(start, end)\n",
    "    ax.set_ylim(start, end)\n",
    "\n",
    "    y_ticks = np.arange(start, end, 1)\n",
    "    ax.set_yticks(y_ticks)\n",
    "\n",
    "    x_ticks = np.arange(start, end, 1)\n",
    "    ax.set_xticks(x_ticks)\n",
    "\n",
    "    plt.grid(linestyle='--', )\n",
    "\n",
    "    \n",
    "\n",
    "    x = np.linspace(start, end, 100)\n",
    "    plt.plot(x, function(x), linewidth=2)\n",
    "    plt.title(function.__name__)\n",
    "    plt.show()\n"
   ]
  },
  {
   "cell_type": "code",
   "execution_count": 174,
   "metadata": {},
   "outputs": [
    {
     "data": {
      "image/png": "[encoded data removed]",
      "text/plain": [
       "<Figure size 640x480 with 1 Axes>"
      ]
     },
     "metadata": {},
     "output_type": "display_data"
    }
   ],
   "source": [
    "def ReLU(Z):\n",
    "    return np.maximum(Z, 0)\n",
    "\n",
    "plot_function_graph(-3, 3, ReLU)"
   ]
  },
  {
   "cell_type": "code",
   "execution_count": 175,
   "metadata": {},
   "outputs": [
    {
     "name": "stdout",
     "output_type": "stream",
     "text": [
      "x: [1. 2. 3.]\n",
      "np.exp(x): [ 2.71828183  7.3890561  20.08553692]\n",
      "sum(np.exp(x)): 30.19287485057736\n",
      "softmax(x): [0.09003057 0.24472847 0.66524096]\n"
     ]
    }
   ],
   "source": [
    "def softmax(Z):\n",
    "    A = np.exp(Z) / sum(np.exp(Z))\n",
    "    return A\n",
    "\n",
    "x = np.array([1.0, 2.0, 3.0])\n",
    "print(f\"x: {x}\")\n",
    "print(f\"np.exp(x): {np.exp(x)}\")\n",
    "print(f\"sum(np.exp(x)): {sum(np.exp(x))}\")\n",
    "print(f\"softmax(x): {softmax(x)}\")\n"
   ]
  },
  {
   "attachments": {},
   "cell_type": "markdown",
   "metadata": {},
   "source": [
    "![nn4](https://raw.githubusercontent.com/heitzlki/NeuralNetworkMNIST/main/assets/nn4.png)"
   ]
  },
  {
   "cell_type": "code",
   "execution_count": 176,
   "metadata": {},
   "outputs": [],
   "source": [
    "def forward_prop(W1, b1, W2, b2, X):\n",
    "    print(f\"W1: {W1}\")\n",
    "    print(f\"b1: {b1}\")\n",
    "    print(f\"W2: {W2}\")\n",
    "    print(f\"b2: {b2}\")\n",
    "    # print(f\"X: {X}\")\n",
    "    Z1 = W1.dot(X) + b1\n",
    "    print(f\"Z1: {Z1}\")\n",
    "    A1 = ReLU(Z1)\n",
    "    print(f\"A1: {A1}\")\n",
    "    Z2 = W2.dot(A1) + b2\n",
    "    print(f\"Z2: {Z2}\")\n",
    "    A2 = softmax(Z2)\n",
    "    print(f\"A2: {A2}\")\n",
    "    return Z1, A1, Z2, A2\n",
    "\n",
    "\n",
    "def get_predictions(A2):\n",
    "    return np.argmax(A2, 0)\n",
    "\n",
    "def make_predictions(X, W1, b1, W2, b2):\n",
    "    _, _, _, A2 = forward_prop(W1, b1, W2, b2, X)\n",
    "    predictions = get_predictions(A2)\n",
    "    return predictions\n",
    "\n",
    "def test_prediction(index, W1, b1, W2, b2):\n",
    "    current_image = X_train[:, index, None]\n",
    "    prediction = make_predictions(current_image, W1, b1, W2, b2)[0]\n",
    "    label = Y_train[index]\n",
    "\n",
    "    current_image = current_image.reshape((28, 28))\n",
    "    plt.imshow(current_image, interpolation='nearest', cmap=\"Greys\")\n",
    "    plt.title(f\"Index: {index} \\nLabel: {label}\\nPrediction: {prediction}\")\n",
    "    plt.show()\n",
    "\n",
    "W1, b1, W2, b2 = init_params()"
   ]
  },
  {
   "cell_type": "code",
   "execution_count": 177,
   "metadata": {},
   "outputs": [
    {
     "name": "stdout",
     "output_type": "stream",
     "text": [
      "W1: [[-0.08755337  0.27660825  0.45600978 ...  0.04021789 -0.36225689\n",
      "   0.28567563]\n",
      " [ 0.37136411 -0.35140748 -0.16877267 ... -0.27203751 -0.29593948\n",
      "  -0.3115458 ]\n",
      " [-0.29059575  0.05811534 -0.12008103 ...  0.41463199  0.0227991\n",
      "   0.02432578]\n",
      " ...\n",
      " [-0.43885659 -0.413107    0.07600725 ... -0.06959924 -0.01066805\n",
      "   0.48501326]\n",
      " [ 0.23980515 -0.3881328  -0.10361576 ...  0.25403458 -0.43635347\n",
      "  -0.25252895]\n",
      " [ 0.21589835 -0.03248763 -0.31288829 ... -0.46319937  0.00809646\n",
      "  -0.23647241]]\n",
      "b1: [[-0.00969619]\n",
      " [ 0.06688393]\n",
      " [ 0.46746667]\n",
      " [-0.18999548]\n",
      " [-0.17660764]\n",
      " [-0.27084023]\n",
      " [-0.40709058]\n",
      " [ 0.03976617]\n",
      " [ 0.18115055]\n",
      " [ 0.28679429]]\n",
      "W2: [[ 4.46315349e-01  1.39342788e-01 -2.04639432e-01 -2.61814000e-02\n",
      "   3.38140427e-01 -4.95382310e-01 -4.90370728e-01 -2.00782198e-01\n",
      "   7.97293748e-02 -4.64190864e-02]\n",
      " [-1.14833109e-01  3.41319788e-01  1.29212965e-01 -1.12480188e-01\n",
      "  -1.82926714e-01  4.56656219e-01 -4.91556916e-01 -4.87732424e-02\n",
      "   2.17364434e-01 -4.94099049e-01]\n",
      " [ 3.17756095e-01  9.53640490e-02 -4.78680944e-01  3.75711623e-01\n",
      "  -2.10409405e-01 -1.39261465e-01  3.98373017e-01 -1.79533005e-02\n",
      "  -1.66610524e-01 -9.97092911e-03]\n",
      " [ 1.15218081e-01  1.00227014e-04  3.25640485e-01  4.49153410e-01\n",
      "   6.75683584e-02  2.26712500e-02 -1.24792468e-01 -4.86582230e-01\n",
      "   2.34867340e-01 -9.79751591e-02]\n",
      " [ 9.19142636e-02  2.75958139e-01 -1.17868227e-01 -1.20066704e-01\n",
      "  -1.23482057e-01  4.59197650e-01 -4.71470570e-01  4.20245265e-01\n",
      "  -4.90267943e-01 -4.68216708e-01]\n",
      " [ 4.18274589e-01 -3.18531608e-01  1.71888405e-02 -4.66978578e-01\n",
      "  -4.19553818e-01 -1.03531266e-01 -3.41058524e-01 -4.08388072e-01\n",
      "  -4.74745024e-01  4.60419765e-01]\n",
      " [ 1.58706878e-01  3.95887289e-01  1.99559619e-01 -3.93526657e-01\n",
      "   1.67077612e-01 -1.03717923e-01  6.93041903e-02  1.98624503e-01\n",
      "   5.61999637e-02 -1.23967147e-02]\n",
      " [-1.70136049e-02  1.89412518e-01 -2.18338346e-01  4.54002159e-01\n",
      "   5.72915480e-02 -3.13971020e-02 -4.42845576e-01 -1.20740072e-01\n",
      "   4.77183860e-01 -2.27919622e-01]\n",
      " [-1.45752219e-01  3.97959268e-02 -3.05463885e-01 -3.13922776e-01\n",
      "  -1.82258687e-01 -2.58689823e-01  4.85803828e-01  1.84473584e-01\n",
      "   2.31915896e-01 -4.63757417e-01]\n",
      " [ 4.02853890e-03 -3.28606189e-02 -1.17132352e-01  5.45119457e-02\n",
      "  -5.53277901e-03 -1.76642105e-01  3.39761780e-01 -2.90723407e-01\n",
      "   4.95668088e-01 -3.49678120e-01]]\n",
      "b2: [[ 0.32325532]\n",
      " [-0.48249549]\n",
      " [-0.46274151]\n",
      " [-0.31462938]\n",
      " [ 0.43297779]\n",
      " [-0.4052028 ]\n",
      " [ 0.4675739 ]\n",
      " [-0.38334319]\n",
      " [ 0.34288637]\n",
      " [-0.32886915]]\n",
      "Z1: [[ 0.12590866]\n",
      " [ 2.70267246]\n",
      " [ 1.42934075]\n",
      " [ 1.51112116]\n",
      " [ 1.47075188]\n",
      " [-0.05285058]\n",
      " [ 0.08855882]\n",
      " [-3.21259831]\n",
      " [ 3.07028266]\n",
      " [ 8.1319046 ]]\n",
      "A1: [[0.12590866]\n",
      " [2.70267246]\n",
      " [1.42934075]\n",
      " [1.51112116]\n",
      " [1.47075188]\n",
      " [0.        ]\n",
      " [0.08855882]\n",
      " [0.        ]\n",
      " [3.07028266]\n",
      " [8.1319046 ]]\n",
      "Z2: [[ 0.74519561]\n",
      " [-3.2229278 ]\n",
      " [-1.14825251]\n",
      " [ 0.85703418]\n",
      " [-4.69565324]\n",
      " [-0.25529263]\n",
      " [ 1.57169047]\n",
      " [ 0.15711951]\n",
      " [-3.76311587]\n",
      " [-1.80197772]]\n",
      "A2: [[0.17889607]\n",
      " [0.00338273]\n",
      " [0.02693312]\n",
      " [0.20006526]\n",
      " [0.00077566]\n",
      " [0.06578006]\n",
      " [0.4088302 ]\n",
      " [0.09935795]\n",
      " [0.00197091]\n",
      " [0.01400804]]\n"
     ]
    },
    {
     "data": {
      "image/png": "[encoded data removed]",
      "text/plain": [
       "<Figure size 640x480 with 1 Axes>"
      ]
     },
     "metadata": {},
     "output_type": "display_data"
    }
   ],
   "source": [
    "test_prediction(2, W1, b1, W2, b2)"
   ]
  },
  {
   "attachments": {},
   "cell_type": "markdown",
   "metadata": {},
   "source": [
    "---\n",
    "\n",
    "**Backward propagation**\n",
    "\n",
    "$$dZ^{[2]} = A^{[2]} - Y$$\n",
    "$$dW^{[2]} = \\frac{1}{m} dZ^{[2]} A^{[1]T}$$\n",
    "$$dB^{[2]} = \\frac{1}{m} \\Sigma {dZ^{[2]}}$$\n",
    "$$dZ^{[1]} = W^{[2]T} dZ^{[2]} .* g^{[1]\\prime} (z^{[1]})$$\n",
    "$$dW^{[1]} = \\frac{1}{m} dZ^{[1]} A^{[0]T}$$\n",
    "$$dB^{[1]} = \\frac{1}{m} \\Sigma {dZ^{[1]}}$$\n",
    "\n",
    "**Parameter updates**\n",
    "\n",
    "$$W^{[2]} := W^{[2]} - \\alpha dW^{[2]}$$\n",
    "$$b^{[2]} := b^{[2]} - \\alpha db^{[2]}$$\n",
    "$$W^{[1]} := W^{[1]} - \\alpha dW^{[1]}$$\n",
    "$$b^{[1]} := b^{[1]} - \\alpha db^{[1]}$$\n",
    "\n",
    "**Vars and shapes**\n",
    "\n",
    "Backprop\n",
    "\n",
    "- $dZ^{[2]}$: 10 x m ($~A^{[2]}$)\n",
    "- $dW^{[2]}$: 10 x 10\n",
    "- $dB^{[2]}$: 10 x 1\n",
    "- $dZ^{[1]}$: 10 x m ($~A^{[1]}$)\n",
    "- $dW^{[1]}$: 10 x 10\n",
    "- $dB^{[1]}$: 10 x 1"
   ]
  },
  {
   "cell_type": "code",
   "execution_count": 200,
   "metadata": {},
   "outputs": [
    {
     "name": "stdout",
     "output_type": "stream",
     "text": [
      "X.shape: (784, 41000)\n"
     ]
    }
   ],
   "source": [
    "def forward_prop(W1, b1, W2, b2, X):\n",
    "    Z1 = W1.dot(X) + b1\n",
    "    A1 = ReLU(Z1)\n",
    "    Z2 = W2.dot(A1) + b2\n",
    "    A2 = softmax(Z2)\n",
    "    return Z1, A1, Z2, A2\n",
    "\n",
    "\n",
    "def ReLU_deriv(Z):\n",
    "    \"\"\"\n",
    "    Die Funktion `ReLU_deriv` berechnet die Ableitung der ReLU-Aktivierungsfunktion.\n",
    "    Sie nimmt eine Matrix `Z` als Eingabe und gibt eine Matrix zurück, bei der jeder \n",
    "    Eintrag den Wert `True` hat, wenn der entsprechende Eintrag in `Z` größer als 0 \n",
    "    ist, andernfalls den Wert `False`.\n",
    "    \"\"\"\n",
    "    return Z > 0\n",
    "\n",
    "def one_hot(Y):\n",
    "    one_hot_Y = np.zeros((Y.size, Y.max() + 1))\n",
    "    one_hot_Y[np.arange(Y.size), Y] = 1\n",
    "    one_hot_Y = one_hot_Y.T\n",
    "    return one_hot_Y\n",
    "\n",
    "def backward_prop(Z1, A1, Z2, A2, W1, W2, X, Y):\n",
    "    one_hot_Y = one_hot(Y)\n",
    "    # print(f\"one_hot_Y.shape: {one_hot_Y.shape}\")\n",
    "    # print(f\"one_hot_Y: {one_hot_Y}\")\n",
    "\n",
    "    dZ2 = A2 - one_hot_Y  # Berechnet die Ableitung des Verlusts bezüglich der Aktivierung im Output Layer.\n",
    "    # print(f\"dZ2.shape: {dZ2.shape}\")\n",
    "    # print(f\"dZ2: {dZ2}\")\n",
    "    dW2 = 1 / m * dZ2.dot(A1.T) # Berechnet die Ableitung des Verlusts bezüglich der Gewichtsmatrix im Output Layer.\n",
    "    # print(f\"dW2.shape: {dW2.shape}\")\n",
    "    # print(f\"dW2: {dW2}\")\n",
    "    db2 = 1 / m * np.sum(dZ2)  # Berechnet die Ableitung des Verlusts bezüglich des Bias-Vektors im Output Layer.\n",
    "    # print(f\"db2.shape: {db2.shape}\")\n",
    "    # print(f\"db2: {db2}\")\n",
    "\n",
    "    dZ1 = W2.T.dot(dZ2) * ReLU_deriv(Z1) # Berechnet die Ableitung des Verlusts bezüglich der Aktivierung im Hidden Layer.\n",
    "    # print(f\"dZ1.shape: {dZ1.shape}\")\n",
    "    # print(f\"dZ1: {dZ1}\")\n",
    "    dW1 = 1 / m * dZ1.dot(X.T) # Berechnet die Ableitung des Verlusts bezüglich der Gewichtsmatrix im Hidden Layer.\n",
    "    # print(f\"dW1.shape: {dW1.shape}\")\n",
    "    # print(f\"dW1: {dW1}\")\n",
    "    db1 = 1 / m * np.sum(dZ1) # Berechnet die Ableitung des Verlusts bezüglich des Bias-Vektors im Hidden Layer.\n",
    "    # print(f\"db1.shape: {db1.shape}\")\n",
    "    # print(f\"db1: {db1}\")\n",
    "    return dW1, db1, dW2, db2\n",
    "\n",
    "\n",
    "\n",
    "\n",
    "def test_backward_prop(index, W1, b1, W2, b2):\n",
    "    X = X_train#[:, index, None]\n",
    "    print(f\"X.shape: {X.shape}\")\n",
    "    # print(f\"X: {X}\")\n",
    "    Y = Y_train #[:, index, None]\n",
    "    # print(f\"Y.shape: {Y.shape}\")\n",
    "    # print(f\"Y: {Y}\")\n",
    "    Z1, A1, Z2, A2 = forward_prop(W1, b1, W2, b2, X)\n",
    "    dW1, db1, dW2, db2 = backward_prop(Z1, A1, Z2, A2, W1, W2, X, Y)\n",
    "\n",
    "W1, b1, W2, b2 = init_params()\n",
    "test_backward_prop(0, W1, b1, W2, b2)"
   ]
  },
  {
   "cell_type": "code",
   "execution_count": 201,
   "metadata": {},
   "outputs": [
    {
     "name": "stdout",
     "output_type": "stream",
     "text": [
      "[[1. 0. 0. 0. 0. 0. 0. 0. 1.]\n",
      " [0. 1. 0. 0. 0. 0. 0. 1. 0.]\n",
      " [0. 0. 1. 0. 0. 0. 1. 0. 0.]\n",
      " [0. 0. 0. 1. 0. 1. 0. 0. 0.]\n",
      " [0. 0. 0. 0. 1. 0. 0. 0. 0.]]\n"
     ]
    }
   ],
   "source": [
    "# Beispiel-Klassenlabels\n",
    "Y = np.array([0, 1, 2, 3, 4, 3, 2, 1, 0])\n",
    "\n",
    "def one_hot(Y):\n",
    "    one_hot_Y = np.zeros((Y.size, Y.max() + 1))\n",
    "    one_hot_Y[np.arange(Y.size), Y] = 1\n",
    "    one_hot_Y = one_hot_Y.T\n",
    "    return one_hot_Y\n",
    "\n",
    "# Anwendung der one_hot-Funktion\n",
    "one_hot_Y = one_hot(Y)\n",
    "\n",
    "# Ausgabe des Ergebnisses\n",
    "print(one_hot_Y)"
   ]
  },
  {
   "cell_type": "code",
   "execution_count": 229,
   "metadata": {},
   "outputs": [],
   "source": [
    "def init_params():\n",
    "    W1 = np.random.rand(10, 784) - 0.5\n",
    "    b1 = np.random.rand(10, 1) - 0.5\n",
    "    W2 = np.random.rand(10, 10) - 0.5\n",
    "    b2 = np.random.rand(10, 1) - 0.5\n",
    "    return W1, b1, W2, b2\n",
    "\n",
    "def ReLU(Z):\n",
    "    return np.maximum(Z, 0)\n",
    "\n",
    "def softmax(Z):\n",
    "    A = np.exp(Z) / sum(np.exp(Z))\n",
    "    return A\n",
    "    \n",
    "def forward_prop(W1, b1, W2, b2, X):\n",
    "    Z1 = W1.dot(X) + b1\n",
    "    A1 = ReLU(Z1)\n",
    "    Z2 = W2.dot(A1) + b2\n",
    "    A2 = softmax(Z2)\n",
    "    return Z1, A1, Z2, A2\n",
    "\n",
    "def ReLU_deriv(Z):\n",
    "    return Z > 0\n",
    "\n",
    "def one_hot(Y):\n",
    "    one_hot_Y = np.zeros((Y.size, Y.max() + 1))\n",
    "    one_hot_Y[np.arange(Y.size), Y] = 1\n",
    "    one_hot_Y = one_hot_Y.T\n",
    "    return one_hot_Y\n",
    "\n",
    "def backward_prop(Z1, A1, Z2, A2, W1, W2, X, Y):\n",
    "    one_hot_Y = one_hot(Y)\n",
    "    dZ2 = A2 - one_hot_Y\n",
    "    dW2 = 1 / m * dZ2.dot(A1.T)\n",
    "    db2 = 1 / m * np.sum(dZ2)\n",
    "    dZ1 = W2.T.dot(dZ2) * ReLU_deriv(Z1)\n",
    "    dW1 = 1 / m * dZ1.dot(X.T)\n",
    "    db1 = 1 / m * np.sum(dZ1)\n",
    "    return dW1, db1, dW2, db2\n",
    "\n",
    "def update_params(W1, b1, W2, b2, dW1, db1, dW2, db2, alpha):\n",
    "    W1 = W1 - alpha * dW1\n",
    "    b1 = b1 - alpha * db1    \n",
    "    W2 = W2 - alpha * dW2  \n",
    "    b2 = b2 - alpha * db2    \n",
    "    return W1, b1, W2, b2\n",
    "\n",
    "\n",
    "def get_predictions(A2):\n",
    "    return np.argmax(A2, 0)\n",
    "\n",
    "def get_accuracy(predictions, Y):\n",
    "    return np.sum(predictions == Y) / Y.size\n",
    "\n",
    "def gradient_descent(X, Y, alpha, iterations):\n",
    "    W1, b1, W2, b2 = init_params()\n",
    "    accuracies = []\n",
    "    for i in range(iterations):\n",
    "\n",
    "        Z1, A1, Z2, A2 = forward_prop(W1, b1, W2, b2, X)\n",
    "        dW1, db1, dW2, db2 = backward_prop(Z1, A1, Z2, A2, W1, W2, X, Y)\n",
    "        W1, b1, W2, b2 = update_params(W1, b1, W2, b2, dW1, db1, dW2, db2, alpha)\n",
    "        accuracies.append(get_accuracy(get_predictions(A2), Y))\n",
    "\n",
    "        if i % 10 == 0:\n",
    "            print(f\"[{i}]: {accuracies[-1]}\")\n",
    "    \n",
    "    return W1, b1, W2, b2, accuracies"
   ]
  },
  {
   "cell_type": "code",
   "execution_count": 233,
   "metadata": {},
   "outputs": [
    {
     "name": "stdout",
     "output_type": "stream",
     "text": [
      "[0]: 0.11534146341463415\n",
      "[10]: 0.21948780487804878\n",
      "[20]: 0.30246341463414633\n",
      "[30]: 0.40058536585365856\n",
      "[40]: 0.46626829268292685\n",
      "[50]: 0.5098536585365854\n",
      "[60]: 0.5430975609756098\n",
      "[70]: 0.569\n",
      "[80]: 0.5905853658536585\n",
      "[90]: 0.6088292682926829\n",
      "[100]: 0.625780487804878\n",
      "[110]: 0.640390243902439\n",
      "[120]: 0.655219512195122\n",
      "[130]: 0.6671951219512195\n",
      "[140]: 0.6797560975609757\n",
      "[150]: 0.6907317073170731\n",
      "[160]: 0.7009512195121951\n",
      "[170]: 0.7103170731707317\n",
      "[180]: 0.7191951219512195\n",
      "[190]: 0.7277073170731707\n",
      "[200]: 0.7350731707317073\n",
      "[210]: 0.7419756097560976\n",
      "[220]: 0.747609756097561\n",
      "[230]: 0.753390243902439\n",
      "[240]: 0.7590975609756098\n",
      "[250]: 0.7648048780487805\n",
      "[260]: 0.7691219512195122\n",
      "[270]: 0.773609756097561\n",
      "[280]: 0.7780731707317073\n",
      "[290]: 0.782219512195122\n",
      "[300]: 0.7862682926829269\n",
      "[310]: 0.7898048780487805\n",
      "[320]: 0.7930975609756098\n",
      "[330]: 0.795829268292683\n",
      "[340]: 0.7985365853658537\n",
      "[350]: 0.8014634146341464\n",
      "[360]: 0.8043902439024391\n",
      "[370]: 0.8067317073170732\n",
      "[380]: 0.809\n",
      "[390]: 0.8112439024390244\n",
      "[400]: 0.8135853658536585\n",
      "[410]: 0.8159512195121951\n",
      "[420]: 0.8174146341463414\n",
      "[430]: 0.8192195121951219\n",
      "[440]: 0.8209024390243902\n",
      "[450]: 0.8227073170731707\n",
      "[460]: 0.8239756097560975\n",
      "[470]: 0.8255853658536585\n",
      "[480]: 0.8268536585365853\n",
      "[490]: 0.8284878048780487\n"
     ]
    }
   ],
   "source": [
    "W1, b1, W2, b2, accuracies = gradient_descent(X_train, Y_train, 0.10, 500)"
   ]
  },
  {
   "cell_type": "code",
   "execution_count": 234,
   "metadata": {},
   "outputs": [
    {
     "data": {
      "image/png": "[encoded data removed]",
      "text/plain": [
       "<Figure size 640x480 with 1 Axes>"
      ]
     },
     "metadata": {},
     "output_type": "display_data"
    }
   ],
   "source": [
    "def plot(y):\n",
    "  x = [i for i in range(1, len(y) + 1)]\n",
    "  fig, ax = plt.subplots()\n",
    "  plt.ylim(-0.1, 1.1)\n",
    "  ax.plot(x, y)\n",
    "  plt.show()\n",
    "\n",
    "\n",
    "plot(accuracies)"
   ]
  },
  {
   "cell_type": "code",
   "execution_count": 235,
   "metadata": {},
   "outputs": [
    {
     "data": {
      "text/plain": [
       "0.826"
      ]
     },
     "execution_count": 235,
     "metadata": {},
     "output_type": "execute_result"
    }
   ],
   "source": [
    "dev_predictions = make_predictions(X_dev, W1, b1, W2, b2)\n",
    "get_accuracy(dev_predictions, Y_dev)"
   ]
  }
 ],
 "metadata": {
  "kernelspec": {
   "display_name": "Python 3 (ipykernel)",
   "language": "python",
   "name": "python3"
  },
  "language_info": {
   "codemirror_mode": {
    "name": "ipython",
    "version": 3
   },
   "file_extension": ".py",
   "mimetype": "text/x-python",
   "name": "python",
   "nbconvert_exporter": "python",
   "pygments_lexer": "ipython3",
   "version": "3.11.3"
  }
 },
 "nbformat": 4,
 "nbformat_minor": 2
}
