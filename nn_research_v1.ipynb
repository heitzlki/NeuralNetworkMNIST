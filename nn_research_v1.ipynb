{
 "cells": [
  {
   "attachments": {},
   "cell_type": "markdown",
   "metadata": {},
   "source": [
    "https://github.com/Bot-Academy/NeuralNetworkFromScratch/blob/master/nn.py"
   ]
  },
  {
   "cell_type": "code",
   "execution_count": null,
   "metadata": {},
   "outputs": [],
   "source": [
    "!pip install pandas matplotlib numpy"
   ]
  },
  {
   "cell_type": "code",
   "execution_count": 7,
   "metadata": {},
   "outputs": [],
   "source": [
    "import numpy as np\n",
    "import os\n",
    "\n",
    "def get_mnist():\n",
    "    with np.load(f\"{os.path.dirname(os.path.abspath('__file__'))}/data/mnist.npz\") as f:\n",
    "        images, labels = f[\"x_train\"], f[\"y_train\"]\n",
    "    images = images.astype(\"float32\") / 255\n",
    "    images = np.reshape(images, (images.shape[0], images.shape[1] * images.shape[2]))\n",
    "    # labels = #np.eye(10)[labels]\n",
    "    return images, labels\n"
   ]
  },
  {
   "cell_type": "code",
   "execution_count": 8,
   "metadata": {},
   "outputs": [
    {
     "name": "stdout",
     "output_type": "stream",
     "text": [
      "(784, 60000)\n",
      "(60000,)\n"
     ]
    }
   ],
   "source": [
    "images, labels = get_mnist()\n",
    "print(images.T.shape)\n",
    "print(labels.shape)"
   ]
  },
  {
   "attachments": {},
   "cell_type": "markdown",
   "metadata": {},
   "source": [
    "w = weights, b = bias, i = input, h = hidden, o = output, l = label\n",
    "e.g. w_i_h = weights from input layer to hidden layer"
   ]
  },
  {
   "cell_type": "code",
   "execution_count": 5,
   "metadata": {},
   "outputs": [],
   "source": [
    "w_i_h = np.random.uniform(-0.5, 0.5, (20, 784))\n",
    "w_h_o = np.random.uniform(-0.5, 0.5, (10, 20))\n",
    "b_i_h = np.zeros((20, 1))\n",
    "b_h_o = np.zeros((10, 1))\n",
    "\n",
    "learn_rate = 0.01\n",
    "nr_correct = 0\n",
    "epochs = 3\n",
    "\n",
    "k_err = [0]\n",
    "\n",
    "def train():\n",
    "    global w_i_h, w_h_o, b_i_h, b_h_o, nr_correct, k_err\n",
    "    for epoch in range(epochs):\n",
    "        for index, (img, l) in enumerate(zip(images, labels)):\n",
    "\n",
    "            img.shape += (1,)\n",
    "            l.shape += (1,)\n",
    "\n",
    "            # Forward propagation input -> hidden\n",
    "            h_pre = b_i_h + w_i_h @ img\n",
    "            h = 1 / (1 + np.exp(-h_pre))\n",
    "            \n",
    "            # Forward propagation hidden -> output\n",
    "            o_pre = b_h_o + w_h_o @ h\n",
    "            o = 1 / (1 + np.exp(-o_pre))\n",
    "\n",
    "            # Cost / Error calculation\n",
    "            e = 1 / len(o) * np.sum((o - l) ** 2, axis=0)\n",
    "            if np.argmax(o) != np.argmax(l):\n",
    "                k_err[-1] += 1\n",
    "                if(index % 100 == 0):\n",
    "                    k_err.append(1)\n",
    "                # print(f\"Index: {index}, Label: {np.argmax(l)}\")\n",
    "                # print(f\"Error: {e}\")\n",
    "                # print(f\"Prediction: {np.argmax(o)}\")\n",
    "                # print(f\"Output: {o}\")\n",
    "            nr_correct += int(np.argmax(o) == np.argmax(l))\n",
    "\n",
    "            # Backpropagation output -> hidden (cost function derivative)\n",
    "            delta_o = o - l\n",
    "            w_h_o += -learn_rate * delta_o @ np.transpose(h)\n",
    "            b_h_o += -learn_rate * delta_o\n",
    "            # Backpropagation hidden -> input (activation function derivative)\n",
    "            delta_h = np.transpose(w_h_o) @ delta_o * (h * (1 - h))\n",
    "            w_i_h += -learn_rate * delta_h @ np.transpose(img)\n",
    "            b_i_h += -learn_rate * delta_h\n",
    "\n",
    "        # Show accuracy for this epoch\n",
    "        print(f\"Acc: {round((nr_correct / images.shape[0]) * 100, 2)}%\")\n",
    "        nr_correct = 0\n"
   ]
  },
  {
   "cell_type": "code",
   "execution_count": 6,
   "metadata": {},
   "outputs": [],
   "source": [
    "import matplotlib.pyplot as plt\n",
    "\n",
    "def test_prediction():\n",
    "  index = int(input(\"Enter a number (0 - 59999): \"))\n",
    "  img = images[index]\n",
    "  print(img.shape)\n",
    "  plt.imshow(img.reshape(28, 28), cmap=\"Greys\")\n",
    "\n",
    "  img.shape += (1,)\n",
    "  # Forward propagation input -> hidden\n",
    "  h_pre = b_i_h + w_i_h @ img.reshape(784, 1)\n",
    "\n",
    "  h = 1 / (1 + np.exp(-h_pre))\n",
    "\n",
    "  # Forward propagation hidden -> output\n",
    "  o_pre = b_h_o + w_h_o @ h\n",
    "  o = 1 / (1 + np.exp(-o_pre))\n",
    "\n",
    "\n",
    "  plt.title(f\"Index: {index} \\nLabel: {labels[index].argmax()} \\nPrediction: {o.argmax()}\")\n",
    "  plt.show()"
   ]
  },
  {
   "cell_type": "code",
   "execution_count": 7,
   "metadata": {},
   "outputs": [
    {
     "name": "stdout",
     "output_type": "stream",
     "text": [
      "(784,)\n"
     ]
    },
    {
     "data": {
      "image/png": "[encoded data removed]",
      "text/plain": [
       "<Figure size 640x480 with 1 Axes>"
      ]
     },
     "metadata": {},
     "output_type": "display_data"
    }
   ],
   "source": [
    "test_prediction()"
   ]
  },
  {
   "cell_type": "code",
   "execution_count": 8,
   "metadata": {},
   "outputs": [
    {
     "name": "stdout",
     "output_type": "stream",
     "text": [
      "Acc: 85.89%\n",
      "Acc: 92.45%\n",
      "Acc: 93.55%\n"
     ]
    }
   ],
   "source": [
    "train()"
   ]
  },
  {
   "cell_type": "code",
   "execution_count": 9,
   "metadata": {},
   "outputs": [
    {
     "name": "stdout",
     "output_type": "stream",
     "text": [
      "(784,)\n"
     ]
    },
    {
     "data": {
      "image/png": "[encoded data removed]",
      "text/plain": [
       "<Figure size 640x480 with 1 Axes>"
      ]
     },
     "metadata": {},
     "output_type": "display_data"
    }
   ],
   "source": [
    "test_prediction()"
   ]
  }
 ],
 "metadata": {
  "kernelspec": {
   "display_name": "usr",
   "language": "python",
   "name": "python3"
  },
  "language_info": {
   "codemirror_mode": {
    "name": "ipython",
    "version": 3
   },
   "file_extension": ".py",
   "mimetype": "text/x-python",
   "name": "python",
   "nbconvert_exporter": "python",
   "pygments_lexer": "ipython3",
   "version": "3.11.3"
  },
  "orig_nbformat": 4
 },
 "nbformat": 4,
 "nbformat_minor": 2
}
